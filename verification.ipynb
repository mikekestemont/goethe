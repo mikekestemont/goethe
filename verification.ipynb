{
 "cells": [
  {
   "cell_type": "markdown",
   "metadata": {},
   "source": [
    "# Verification"
   ]
  },
  {
   "cell_type": "code",
   "execution_count": 1,
   "metadata": {},
   "outputs": [],
   "source": [
    "import glob\n",
    "import os\n",
    "import re\n",
    "import unidecode\n",
    "import random\n",
    "\n",
    "import numpy as np\n",
    "RND = 12345\n",
    "random.seed(RND)\n",
    "np.random.seed(RND)\n",
    "from scipy.spatial.distance import cdist, pdist\n",
    "\n",
    "import pandas as pd\n",
    "\n",
    "import matplotlib.pyplot as plt\n",
    "plt.style.use('seaborn-deep')\n",
    "plt.rcParams['font.family'] = 'Arial'\n",
    "\n",
    "from sklearn.feature_extraction.text import TfidfVectorizer\n",
    "from sklearn.model_selection import train_test_split\n",
    "from sklearn.metrics import f1_score, precision_score, recall_score\n",
    "\n",
    "from tqdm import tqdm"
   ]
  },
  {
   "cell_type": "markdown",
   "metadata": {},
   "source": [
    "### Preprocessing"
   ]
  },
  {
   "cell_type": "markdown",
   "metadata": {},
   "source": [
    "We define a function to load the texts from under a given directory, as well as an aggressive cleaning function to reduce the OCR artifacts as much as possible:"
   ]
  },
  {
   "cell_type": "code",
   "execution_count": 2,
   "metadata": {},
   "outputs": [],
   "source": [
    "DIRTY = re.compile(r'\\s*\\-\\+')\n",
    "\n",
    "def clean_text(text):\n",
    "    \"\"\"\n",
    "    Fairly aggressive cleaning of a text to reduce\n",
    "    normalization artifacts in the OCR\n",
    "    \"\"\"\n",
    "    text = ' '.join(text.strip().split())\n",
    "    text = text.replace('ſ', 's')\n",
    "    text = re.sub(DIRTY, '', text)\n",
    "    text = ''.join(c for c in text if c.isalpha() or c.isspace())\n",
    "    text = ' '.join(text.split())\n",
    "    text = unidecode.unidecode(text)\n",
    "    return text\n",
    "\n",
    "def load_folder(path=None, ext='.txt', size=None):\n",
    "    \"\"\"\n",
    "    Load texts from a given directory, clean them\n",
    "    and extract non-overlapping consecutive segments\n",
    "    of a fixed size. Authors and titles are also\n",
    "    extracted. Everything gets returned as a DataFrame.\n",
    "    \"\"\"\n",
    "    texts = []\n",
    "    for fn in tqdm(list(glob.glob(f'{path}/*{ext}'))):\n",
    "        with open(fn, 'r') as f:\n",
    "            text = f.read()\n",
    "            text = clean_text(text)\n",
    "            title = os.path.basename(fn).lower().replace(ext, '')\n",
    "            meta = title.split('_')\n",
    "            author, *title = meta\n",
    "            title = author + ' ' + '_'.join(title)\n",
    "            if size:\n",
    "                cnt = 1\n",
    "                si, ei = 0, size\n",
    "                while ei < len(text):\n",
    "                    texts.append([title + '_' + str(cnt), title, author, text[si:ei]])\n",
    "                    si += size\n",
    "                    ei += size\n",
    "                    cnt += 1\n",
    "            else:\n",
    "                texts.append([title, title, author, text])\n",
    "    \n",
    "    texts = pd.DataFrame(texts, columns=('id', 'title', 'author', 'text'))\n",
    "    texts = texts.set_index('id')\n",
    "    return texts"
   ]
  },
  {
   "cell_type": "markdown",
   "metadata": {},
   "source": [
    "We load the development or calibration data:"
   ]
  },
  {
   "cell_type": "code",
   "execution_count": 3,
   "metadata": {},
   "outputs": [
    {
     "name": "stderr",
     "output_type": "stream",
     "text": [
      "100%|██████████| 35/35 [00:00<00:00, 331.97it/s]\n"
     ]
    }
   ],
   "source": [
    "dev = load_folder('data/dev', size=None, ext='.txt')\n",
    "dev = dev.sort_values(by='title')"
   ]
  },
  {
   "cell_type": "markdown",
   "metadata": {},
   "source": [
    "We determine the mean size of a text in that material:"
   ]
  },
  {
   "cell_type": "code",
   "execution_count": 4,
   "metadata": {},
   "outputs": [
    {
     "name": "stdout",
     "output_type": "stream",
     "text": [
      "-> established sample size: 5454\n"
     ]
    }
   ],
   "source": [
    "dev['length'] = dev.text.str.len()\n",
    "SIZE = int(dev['length'].mean())\n",
    "print('-> established sample size:', SIZE)"
   ]
  },
  {
   "cell_type": "markdown",
   "metadata": {},
   "source": [
    "Next, we also load the source data (by Goethe only) and the imposter data, but this time specifying the `size` parameter to segment the longer texts into consecutive chunks:"
   ]
  },
  {
   "cell_type": "code",
   "execution_count": 5,
   "metadata": {},
   "outputs": [
    {
     "name": "stderr",
     "output_type": "stream",
     "text": [
      "100%|██████████| 3/3 [00:13<00:00,  4.39s/it]\n",
      "100%|██████████| 1774/1774 [03:14<00:00,  9.10it/s]\n"
     ]
    }
   ],
   "source": [
    "source = load_folder('data/source', ext='.txt', size=SIZE)\n",
    "imposters = load_folder('data/imposters', ext='.txt', size=SIZE)"
   ]
  },
  {
   "cell_type": "markdown",
   "metadata": {},
   "source": [
    "All these data are returned as Pandas `DataFrames` by `load_folder()`:"
   ]
  },
  {
   "cell_type": "code",
   "execution_count": 6,
   "metadata": {},
   "outputs": [
    {
     "data": {
      "text/html": [
       "<div>\n",
       "<style scoped>\n",
       "    .dataframe tbody tr th:only-of-type {\n",
       "        vertical-align: middle;\n",
       "    }\n",
       "\n",
       "    .dataframe tbody tr th {\n",
       "        vertical-align: top;\n",
       "    }\n",
       "\n",
       "    .dataframe thead th {\n",
       "        text-align: right;\n",
       "    }\n",
       "</style>\n",
       "<table border=\"1\" class=\"dataframe\">\n",
       "  <thead>\n",
       "    <tr style=\"text-align: right;\">\n",
       "      <th></th>\n",
       "      <th>title</th>\n",
       "      <th>author</th>\n",
       "      <th>text</th>\n",
       "      <th>length</th>\n",
       "    </tr>\n",
       "    <tr>\n",
       "      <th>id</th>\n",
       "      <th></th>\n",
       "      <th></th>\n",
       "      <th></th>\n",
       "      <th></th>\n",
       "    </tr>\n",
       "  </thead>\n",
       "  <tbody>\n",
       "    <tr>\n",
       "      <th>goethe 01</th>\n",
       "      <td>goethe 01</td>\n",
       "      <td>goethe</td>\n",
       "      <td>Halle Leben und Charakter Herrn Christian Adol...</td>\n",
       "      <td>2391</td>\n",
       "    </tr>\n",
       "    <tr>\n",
       "      <th>goethe 02</th>\n",
       "      <td>goethe 02</td>\n",
       "      <td>goethe</td>\n",
       "      <td>Zurch Moralische Erzahlungen und Idyllen von D...</td>\n",
       "      <td>5851</td>\n",
       "    </tr>\n",
       "    <tr>\n",
       "      <th>goethe 03</th>\n",
       "      <td>goethe 03</td>\n",
       "      <td>goethe</td>\n",
       "      <td>Gedichte von einem polnischen Juden Mitau und ...</td>\n",
       "      <td>5683</td>\n",
       "    </tr>\n",
       "    <tr>\n",
       "      <th>goethe 04</th>\n",
       "      <td>goethe 04</td>\n",
       "      <td>goethe</td>\n",
       "      <td>Nachrede statt der versprochenen Vorrede Die b...</td>\n",
       "      <td>4260</td>\n",
       "    </tr>\n",
       "    <tr>\n",
       "      <th>goethe 05</th>\n",
       "      <td>goethe 05</td>\n",
       "      <td>goethe</td>\n",
       "      <td>Zurch Aussichten in die Ewigkeit in Briefen an...</td>\n",
       "      <td>7412</td>\n",
       "    </tr>\n",
       "  </tbody>\n",
       "</table>\n",
       "</div>"
      ],
      "text/plain": [
       "               title  author  \\\n",
       "id                             \n",
       "goethe 01  goethe 01  goethe   \n",
       "goethe 02  goethe 02  goethe   \n",
       "goethe 03  goethe 03  goethe   \n",
       "goethe 04  goethe 04  goethe   \n",
       "goethe 05  goethe 05  goethe   \n",
       "\n",
       "                                                        text  length  \n",
       "id                                                                    \n",
       "goethe 01  Halle Leben und Charakter Herrn Christian Adol...    2391  \n",
       "goethe 02  Zurch Moralische Erzahlungen und Idyllen von D...    5851  \n",
       "goethe 03  Gedichte von einem polnischen Juden Mitau und ...    5683  \n",
       "goethe 04  Nachrede statt der versprochenen Vorrede Die b...    4260  \n",
       "goethe 05  Zurch Aussichten in die Ewigkeit in Briefen an...    7412  "
      ]
     },
     "execution_count": 6,
     "metadata": {},
     "output_type": "execute_result"
    }
   ],
   "source": [
    "dev.head()"
   ]
  },
  {
   "cell_type": "markdown",
   "metadata": {},
   "source": [
    "Note the imbalance between Goethe and the imposters in terms of number of chunks (which is a good thing):"
   ]
  },
  {
   "cell_type": "code",
   "execution_count": 7,
   "metadata": {},
   "outputs": [
    {
     "name": "stdout",
     "output_type": "stream",
     "text": [
      "# Goethe documents: 6372\n",
      "# Imposter documents: 90531\n"
     ]
    }
   ],
   "source": [
    "print('# Goethe documents:', len(source))\n",
    "print('# Imposter documents:', len(imposters))"
   ]
  },
  {
   "cell_type": "markdown",
   "metadata": {},
   "source": [
    "### Vectorization"
   ]
  },
  {
   "cell_type": "markdown",
   "metadata": {},
   "source": [
    "We are now ready to vectorize the data. We define the parameters for the token n-grams feature extraction and character n-gram extraction:"
   ]
  },
  {
   "cell_type": "code",
   "execution_count": 8,
   "metadata": {},
   "outputs": [],
   "source": [
    "p_word = {'use_idf': True,\n",
    "          'max_features': 50000,\n",
    "          'analyzer': 'word',\n",
    "          'min_df': 2,\n",
    "          'lowercase': True,\n",
    "          'norm': 'l1',\n",
    "          'ngram_range': (1, 2)}\n",
    "p_char = {'use_idf': True,\n",
    "          'max_features': 50000,\n",
    "          'analyzer': 'char',\n",
    "          'min_df': 2,\n",
    "          'lowercase': True,\n",
    "          'norm': 'l1',\n",
    "          'ngram_range': (3, 4)}"
   ]
  },
  {
   "cell_type": "markdown",
   "metadata": {},
   "source": [
    "We use these settings to instantiate two TF-IDF vectorizers:"
   ]
  },
  {
   "cell_type": "code",
   "execution_count": 9,
   "metadata": {},
   "outputs": [],
   "source": [
    "w_vectorizer = TfidfVectorizer(**p_word)\n",
    "c_vectorizer = TfidfVectorizer(**p_char)"
   ]
  },
  {
   "cell_type": "markdown",
   "metadata": {},
   "source": [
    "These vectorizers are then fitted on the source material by Goethe and the result of both vectorizers is concatentaed to form a single, long vector per document:"
   ]
  },
  {
   "cell_type": "code",
   "execution_count": 10,
   "metadata": {},
   "outputs": [],
   "source": [
    "source_X = np.hstack((w_vectorizer.fit_transform(source['text']).toarray(),\n",
    "                      c_vectorizer.fit_transform(source['text']).toarray()))"
   ]
  },
  {
   "cell_type": "markdown",
   "metadata": {},
   "source": [
    "The fitted vectorizers then are used to transform the imposter data and the calibration data:"
   ]
  },
  {
   "cell_type": "code",
   "execution_count": 11,
   "metadata": {},
   "outputs": [],
   "source": [
    "imposters_X = np.hstack((w_vectorizer.transform(imposters['text']).toarray(),\n",
    "                         c_vectorizer.transform(imposters['text']).toarray()))\n",
    "\n",
    "dev_X = np.hstack((w_vectorizer.transform(dev['text']).toarray(),\n",
    "                   c_vectorizer.transform(dev['text']).toarray()))"
   ]
  },
  {
   "cell_type": "markdown",
   "metadata": {},
   "source": [
    "These operations give us 3 dense matrices with a dimensionality of 100,000 throughout (i.e. 2 x 50,000):"
   ]
  },
  {
   "cell_type": "code",
   "execution_count": 12,
   "metadata": {},
   "outputs": [
    {
     "name": "stdout",
     "output_type": "stream",
     "text": [
      "(6372, 100000)\n",
      "(90531, 100000)\n",
      "(35, 100000)\n"
     ]
    }
   ],
   "source": [
    "print(source_X.shape)\n",
    "print(imposters_X.shape)\n",
    "print(dev_X.shape)"
   ]
  },
  {
   "cell_type": "markdown",
   "metadata": {},
   "source": [
    "Finally, we binarize the author labels in the development data: $1$ for \"Goethe\" and $0$ for \"not-Goethe\":"
   ]
  },
  {
   "cell_type": "code",
   "execution_count": 13,
   "metadata": {},
   "outputs": [],
   "source": [
    "dev_y = np.array([1 if a == 'goethe' else 0 for a in dev['author']])"
   ]
  },
  {
   "cell_type": "markdown",
   "metadata": {},
   "source": [
    "### Calibration"
   ]
  },
  {
   "cell_type": "markdown",
   "metadata": {},
   "source": [
    "We define a `Verifier` class that is the main workhorse of our verification approach:"
   ]
  },
  {
   "cell_type": "code",
   "execution_count": 14,
   "metadata": {},
   "outputs": [],
   "source": [
    "class Verifier():\n",
    "    def __init__(self, iters=100, \n",
    "                 rnd_prop=.5, random_state=1066,\n",
    "                 num_instances=30, metric='cosine',\n",
    "                 rnd_state=1234):\n",
    "        assert (rnd_prop >= 0.0) and (rnd_prop <= 1.0)\n",
    "        \n",
    "        np.random.seed(rnd_state)\n",
    "        self.iters = iters\n",
    "        self.rnd_prop = rnd_prop\n",
    "        self.num_instances = num_instances\n",
    "    \n",
    "    def predict_proba(self, target, source_X, imposter_X):\n",
    "        \"\"\"\n",
    "        target = (single) anonymous text\n",
    "        source_X = candidate author\n",
    "        imposter_X = imposter documents\n",
    "        \"\"\"\n",
    "        total_features = imposter_X.shape[1]\n",
    "        total_imposters = imposter_X.shape[0]\n",
    "        total_source = source_X.shape[0]\n",
    "        target = np.array([target])\n",
    "        hits = np.zeros(self.iters)\n",
    "            \n",
    "        for it in range(self.iters):\n",
    "            imposters_ = imposter_X[np.random.choice(total_imposters, self.num_instances, replace=False), :]\n",
    "            source_ = source_X[np.random.choice(total_source, self.num_instances, replace=False), :]\n",
    "            \n",
    "            if self.rnd_prop < 1.0:\n",
    "                idxs = np.random.choice(total_features, int(total_features * self.rnd_prop), replace=False)\n",
    "                imposters_ = imposters_[:, idxs]\n",
    "                source_ = source_[:, idxs]\n",
    "                target_ = target[:, idxs]\n",
    "            \n",
    "            min_imp_dist = np.min(cdist(target_, imposters_, metric='cosine'))\n",
    "            min_src_dist = np.min(cdist(target_, source_, metric='cosine'))\n",
    "            \n",
    "            if min_src_dist < min_imp_dist:\n",
    "                hits[it] = 1\n",
    "        \n",
    "        return np.mean(hits)"
   ]
  },
  {
   "cell_type": "markdown",
   "metadata": {},
   "source": [
    "We instantiate this verifier as follows:"
   ]
  },
  {
   "cell_type": "code",
   "execution_count": 15,
   "metadata": {},
   "outputs": [],
   "source": [
    "verifier = Verifier(iters=500, num_instances=25)"
   ]
  },
  {
   "cell_type": "markdown",
   "metadata": {},
   "source": [
    "Next, we apply the verifier to the calibration material and record the verification scores for each of the individual documents:"
   ]
  },
  {
   "cell_type": "code",
   "execution_count": 16,
   "metadata": {},
   "outputs": [
    {
     "name": "stderr",
     "output_type": "stream",
     "text": [
      "100%|██████████| 35/35 [24:48<00:00, 42.52s/it]\n"
     ]
    }
   ],
   "source": [
    "dev_probas = [verifier.predict_proba(target=t, source_X=source_X,\n",
    "              imposter_X=imposters_X) for t in tqdm(dev_X)]"
   ]
  },
  {
   "cell_type": "markdown",
   "metadata": {},
   "source": [
    "We can use the resulting probability array to calculate the precision, recall and F1 scores at various verification thresholds:"
   ]
  },
  {
   "cell_type": "code",
   "execution_count": 17,
   "metadata": {},
   "outputs": [
    {
     "name": "stderr",
     "output_type": "stream",
     "text": [
      "/Users/mikekestemont/anaconda3/envs/py36/lib/python3.6/site-packages/sklearn/metrics/classification.py:1437: UndefinedMetricWarning: F-score is ill-defined and being set to 0.0 due to no predicted samples.\n",
      "  'precision', 'predicted', average, warn_for)\n",
      "/Users/mikekestemont/anaconda3/envs/py36/lib/python3.6/site-packages/sklearn/metrics/classification.py:1437: UndefinedMetricWarning: Precision is ill-defined and being set to 0.0 due to no predicted samples.\n",
      "  'precision', 'predicted', average, warn_for)\n"
     ]
    }
   ],
   "source": [
    "scores = []\n",
    "for th in np.linspace(0, 1.001, 1000):\n",
    "    labels_ = (dev_probas >= th) * 1\n",
    "    scores.append((th,\n",
    "                   f1_score(dev_y, labels_),\n",
    "                   precision_score(dev_y, labels_),\n",
    "                   recall_score(dev_y, labels_)))\n",
    "thresholds, f1s, precisions, recalls = zip(*scores)"
   ]
  },
  {
   "cell_type": "markdown",
   "metadata": {},
   "source": [
    "The maximal F1-score (in fact: perfect verification results) is reached for the following threshold:"
   ]
  },
  {
   "cell_type": "code",
   "execution_count": 18,
   "metadata": {},
   "outputs": [
    {
     "name": "stdout",
     "output_type": "stream",
     "text": [
      "Dev results -> F1=1.0 at th=0.5981951951951952\n"
     ]
    }
   ],
   "source": [
    "max_idx = np.array(f1s).argmax()\n",
    "max_f1 = f1s[max_idx]\n",
    "max_th = thresholds[max_idx]\n",
    "print(f'Dev results -> F1={max_f1} at th={max_th}')"
   ]
  },
  {
   "cell_type": "markdown",
   "metadata": {},
   "source": [
    "We can plot these results to inspect the trade-off between precision and recall across the spectrum of thresholds:"
   ]
  },
  {
   "cell_type": "code",
   "execution_count": 19,
   "metadata": {},
   "outputs": [
    {
     "data": {
      "image/png": "[encoded data removed]",
      "text/plain": [
       "<Figure size 432x288 with 1 Axes>"
      ]
     },
     "metadata": {
      "needs_background": "light"
     },
     "output_type": "display_data"
    }
   ],
   "source": [
    "plt.plot(thresholds, precisions, label='precision')\n",
    "plt.plot(thresholds, recalls, label='recall')\n",
    "plt.plot(thresholds, f1s, label='F1')\n",
    "plt.axvline(max_th, ls='-', c='darkgrey')\n",
    "plt.gca().set_xlabel('theta')\n",
    "plt.gca().legend()\n",
    "plt.gca().set_facecolor('lightgrey')\n",
    "plt.title(f'f1={round(max_f1, 4)} @ theta={round(max_th, 4)}')\n",
    "plt.tight_layout()\n",
    "plt.savefig('figures/dev_precrec.pdf')"
   ]
  },
  {
   "cell_type": "markdown",
   "metadata": {},
   "source": [
    "Finally, let us plot the verification scores for the individual texts in the calibration set:"
   ]
  },
  {
   "cell_type": "code",
   "execution_count": 20,
   "metadata": {},
   "outputs": [
    {
     "data": {
      "image/png": "[encoded data removed]",
      "text/plain": [
       "<Figure size 720x1080 with 1 Axes>"
      ]
     },
     "metadata": {
      "needs_background": "light"
     },
     "output_type": "display_data"
    }
   ],
   "source": [
    "dev['proba'] = dev_probas\n",
    "colors = ['darkolivegreen' if 'goethe' in c else 'indianred' for c in dev['title']]\n",
    "ax = dev['proba'].plot('barh', figsize=(10, 15), color=colors)\n",
    "for p in ax.patches:\n",
    "    ax.annotate(\"%.4f\" % p.get_width(), (p.get_x() + p.get_width(), p.get_y()),\n",
    "                xytext=(5, 5), textcoords='offset points')\n",
    "ax.axvline(max_th, ls='-', c='darkgrey')\n",
    "plt.xlabel('Calibration texts')\n",
    "plt.ylabel('Verification score')\n",
    "plt.title('Calibration results')\n",
    "plt.tight_layout()\n",
    "plt.savefig('figures/dev_bars.pdf')"
   ]
  },
  {
   "cell_type": "markdown",
   "metadata": {},
   "source": [
    "### Application"
   ]
  },
  {
   "cell_type": "markdown",
   "metadata": {},
   "source": [
    "We can now apply the verification system to the two test texts (long texts and short texts). Using a horizontal line, we again show the verification threshold that we obtained from the calibration phase:"
   ]
  },
  {
   "cell_type": "code",
   "execution_count": 21,
   "metadata": {},
   "outputs": [
    {
     "name": "stderr",
     "output_type": "stream",
     "text": [
      "100%|██████████| 9/9 [00:00<00:00, 270.77it/s]\n",
      "100%|██████████| 9/9 [05:50<00:00, 38.97s/it]\n",
      "100%|██████████| 16/16 [00:00<00:00, 1229.37it/s]\n",
      "100%|██████████| 16/16 [10:27<00:00, 39.21s/it]\n"
     ]
    },
    {
     "data": {
      "text/plain": [
       "<Figure size 720x1080 with 0 Axes>"
      ]
     },
     "metadata": {},
     "output_type": "display_data"
    }
   ],
   "source": [
    "for test_dir in 'test_long test_short'.split():\n",
    "    test = load_folder(f'data/{test_dir}', ext='.txt', size=None)\n",
    "    test = test.sort_values(by='title')\n",
    "    test_X = np.hstack((w_vectorizer.transform(test['text']).toarray(),\n",
    "                        c_vectorizer.transform(test['text']).toarray()))\n",
    "    test_probas = [verifier.predict_proba(target=t, source_X=source_X,\n",
    "                   imposter_X=imposters_X) for t in tqdm(test_X)]\n",
    "    test['proba'] = test_probas\n",
    "    colors = ['darkolivegreen' if 'goethe' in c else 'indianred' for c in test['title']]\n",
    "    ax = test['proba'].plot('barh', figsize=(10, 15), color=colors)\n",
    "    for p in ax.patches:\n",
    "        ax.annotate('%.4f' % p.get_width(), (p.get_x() + p.get_width(), p.get_y()),\n",
    "                    xytext=(5, 5), textcoords='offset points')\n",
    "    ax.axvline(max_th, ls='-', c='darkgrey')\n",
    "    plt.xlabel('Test texts')\n",
    "    plt.ylabel('Verification score')\n",
    "    plt.title('Test results')\n",
    "    plt.tight_layout()\n",
    "    plt.savefig(f'figures/{test_dir}_bars.pdf')\n",
    "    plt.clf();"
   ]
  },
  {
   "cell_type": "markdown",
   "metadata": {},
   "source": [
    "That's all.\n",
    "\n",
    "----------------------"
   ]
  }
 ],
 "metadata": {
  "kernelspec": {
   "display_name": "Python (py36)",
   "language": "python",
   "name": "py36"
  },
  "language_info": {
   "codemirror_mode": {
    "name": "ipython",
    "version": 3
   },
   "file_extension": ".py",
   "mimetype": "text/x-python",
   "name": "python",
   "nbconvert_exporter": "python",
   "pygments_lexer": "ipython3",
   "version": "3.6.8"
  }
 },
 "nbformat": 4,
 "nbformat_minor": 2
}
