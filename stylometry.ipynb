{
 "cells": [
  {
   "cell_type": "markdown",
   "metadata": {},
   "source": [
    "# Stylometric experiments Goethe in *Frankfurter gelehrte Anzeigen*"
   ]
  },
  {
   "cell_type": "code",
   "execution_count": 1,
   "metadata": {},
   "outputs": [],
   "source": [
    "import glob\n",
    "import os\n",
    "import shutil\n",
    "import re\n",
    "import unidecode\n",
    "from itertools import product\n",
    "import random\n",
    "\n",
    "import numpy as np\n",
    "RND = 12345\n",
    "random.seed(RND)\n",
    "np.random.seed(RND)\n",
    "\n",
    "from scipy.spatial.distance import cdist, pdist\n",
    "import pandas as pd\n",
    "\n",
    "%matplotlib inline\n",
    "import matplotlib.pyplot as plt\n",
    "plt.style.use(\"seaborn-deep\")\n",
    "\n",
    "from sklearn.feature_extraction.text import TfidfVectorizer\n",
    "from sklearn.model_selection import train_test_split\n",
    "from sklearn.preprocessing import LabelEncoder\n",
    "from sklearn.preprocessing import StandardScaler\n",
    "from sklearn.neighbors import NearestCentroid\n",
    "from sklearn.preprocessing import normalize\n",
    "from sklearn.metrics import accuracy_score, confusion_matrix, f1_score, precision_recall_curve\n",
    "\n",
    "from distance_metrics import pairwise_minmax as minmax\n",
    "from knn import KNN\n",
    "\n",
    "from tqdm import tqdm\n",
    "from inspect import signature\n",
    "\n",
    "DIRTY = re.compile(r'\\s*\\-\\+')"
   ]
  },
  {
   "cell_type": "markdown",
   "metadata": {},
   "source": [
    "## Preprocessing"
   ]
  },
  {
   "cell_type": "code",
   "execution_count": 2,
   "metadata": {},
   "outputs": [],
   "source": [
    "def load_folder(path=None, ext='.txt', size=None):\n",
    "    texts = []\n",
    "    for fn in glob.glob(path + '/*' + ext):\n",
    "        with open(fn, 'r') as f:\n",
    "            text = f.read().strip()\n",
    "            text = ' '.join(text.split())\n",
    "            text = text.replace('ſ', 's')\n",
    "            text = re.sub(DIRTY, '', text)\n",
    "            text = ''.join(c for c in text if c.isalpha() or c.isspace())\n",
    "            text = ' '.join(text.split())\n",
    "            text = unidecode.unidecode(text) # !!!!!!!\n",
    "            title = os.path.basename(fn).lower().replace(ext, '')\n",
    "            meta = title.split('_')\n",
    "            author, *title = meta\n",
    "            title = '_'.join(title) + '+' + author\n",
    "            if size:\n",
    "                cnt = 1\n",
    "                si, ei = 0, size\n",
    "                while ei < len(text):\n",
    "                    texts.append([title + '_' + str(cnt), title, author, text[si:ei]])\n",
    "                    # UPDATE:\n",
    "                    si += size\n",
    "                    ei += size\n",
    "                    cnt += 1\n",
    "            else:\n",
    "                texts.append([title, title, author, text])\n",
    "    texts = pd.DataFrame(texts, columns=('id', 'title', 'author', 'text'))\n",
    "    texts = texts.set_index('id')\n",
    "    return texts"
   ]
  },
  {
   "cell_type": "code",
   "execution_count": 3,
   "metadata": {},
   "outputs": [
    {
     "data": {
      "text/plain": [
       "<matplotlib.axes._subplots.AxesSubplot at 0x1303b3fd0>"
      ]
     },
     "execution_count": 3,
     "metadata": {},
     "output_type": "execute_result"
    },
    {
     "data": {
      "image/png": "[encoded data removed]",
      "text/plain": [
       "<Figure size 432x288 with 1 Axes>"
      ]
     },
     "metadata": {
      "needs_background": "light"
     },
     "output_type": "display_data"
    }
   ],
   "source": [
    "src = load_folder('data/source', size=None)\n",
    "src.text.str.len().plot('box', vert=False)"
   ]
  },
  {
   "cell_type": "markdown",
   "metadata": {},
   "source": [
    "### Target data (of unknown, to-verify authorship)"
   ]
  },
  {
   "cell_type": "code",
   "execution_count": 4,
   "metadata": {},
   "outputs": [
    {
     "data": {
      "text/html": [
       "<div>\n",
       "<style scoped>\n",
       "    .dataframe tbody tr th:only-of-type {\n",
       "        vertical-align: middle;\n",
       "    }\n",
       "\n",
       "    .dataframe tbody tr th {\n",
       "        vertical-align: top;\n",
       "    }\n",
       "\n",
       "    .dataframe thead th {\n",
       "        text-align: right;\n",
       "    }\n",
       "</style>\n",
       "<table border=\"1\" class=\"dataframe\">\n",
       "  <thead>\n",
       "    <tr style=\"text-align: right;\">\n",
       "      <th></th>\n",
       "      <th>title</th>\n",
       "      <th>author</th>\n",
       "      <th>text</th>\n",
       "    </tr>\n",
       "    <tr>\n",
       "      <th>id</th>\n",
       "      <th></th>\n",
       "      <th></th>\n",
       "      <th></th>\n",
       "    </tr>\n",
       "  </thead>\n",
       "  <tbody>\n",
       "    <tr>\n",
       "      <th>herder_05+fga</th>\n",
       "      <td>herder_05+fga</td>\n",
       "      <td>fga</td>\n",
       "      <td>Gottingen und Gema I D Michaclis Verfuch uber ...</td>\n",
       "    </tr>\n",
       "    <tr>\n",
       "      <th>unverified_clean_01+fga</th>\n",
       "      <td>unverified_clean_01+fga</td>\n",
       "      <td>fga</td>\n",
       "      <td>Danzig Cymbelline ein Trauerspiel nach einem v...</td>\n",
       "    </tr>\n",
       "    <tr>\n",
       "      <th>verified_clean_04+goethe</th>\n",
       "      <td>verified_clean_04+goethe</td>\n",
       "      <td>goethe</td>\n",
       "      <td>Nachrede statt der versprochenen Vorrede Die b...</td>\n",
       "    </tr>\n",
       "    <tr>\n",
       "      <th>herder_04+fga</th>\n",
       "      <td>herder_04+fga</td>\n",
       "      <td>fga</td>\n",
       "      <td>Helle D Fel xswleyi Psksplrrnlie Evangelii Joh...</td>\n",
       "    </tr>\n",
       "    <tr>\n",
       "      <th>herder_06+fga</th>\n",
       "      <td>herder_06+fga</td>\n",
       "      <td>fga</td>\n",
       "      <td>Leipzig dklnekktmgm ahek den Unterschied der S...</td>\n",
       "    </tr>\n",
       "  </tbody>\n",
       "</table>\n",
       "</div>"
      ],
      "text/plain": [
       "                                             title  author  \\\n",
       "id                                                           \n",
       "herder_05+fga                        herder_05+fga     fga   \n",
       "unverified_clean_01+fga    unverified_clean_01+fga     fga   \n",
       "verified_clean_04+goethe  verified_clean_04+goethe  goethe   \n",
       "herder_04+fga                        herder_04+fga     fga   \n",
       "herder_06+fga                        herder_06+fga     fga   \n",
       "\n",
       "                                                                       text  \n",
       "id                                                                           \n",
       "herder_05+fga             Gottingen und Gema I D Michaclis Verfuch uber ...  \n",
       "unverified_clean_01+fga   Danzig Cymbelline ein Trauerspiel nach einem v...  \n",
       "verified_clean_04+goethe  Nachrede statt der versprochenen Vorrede Die b...  \n",
       "herder_04+fga             Helle D Fel xswleyi Psksplrrnlie Evangelii Joh...  \n",
       "herder_06+fga             Leipzig dklnekktmgm ahek den Unterschied der S...  "
      ]
     },
     "execution_count": 4,
     "metadata": {},
     "output_type": "execute_result"
    }
   ],
   "source": [
    "target = load_folder('data/target', size=None, ext='.txt')\n",
    "target.head()"
   ]
  },
  {
   "cell_type": "code",
   "execution_count": 5,
   "metadata": {},
   "outputs": [
    {
     "data": {
      "text/plain": [
       "count       15.000000\n",
       "mean      7106.866667\n",
       "std       2867.641860\n",
       "min       2102.000000\n",
       "25%       5836.500000\n",
       "50%       7468.000000\n",
       "75%       8481.500000\n",
       "max      12865.000000\n",
       "Name: length, dtype: float64"
      ]
     },
     "execution_count": 5,
     "metadata": {},
     "output_type": "execute_result"
    },
    {
     "data": {
      "image/png": "[encoded data removed]",
      "text/plain": [
       "<Figure size 432x288 with 1 Axes>"
      ]
     },
     "metadata": {
      "needs_background": "light"
     },
     "output_type": "display_data"
    }
   ],
   "source": [
    "target['length'] = target.text.str.len()\n",
    "target.length.plot('bar')\n",
    "target.length.describe()"
   ]
  },
  {
   "cell_type": "code",
   "execution_count": 6,
   "metadata": {},
   "outputs": [],
   "source": [
    "SIZE = int(target.length.min())\n",
    "source = load_folder('data/source', ext='.txt', size=SIZE)\n",
    "target = load_folder('data/target', ext='.txt', size=None)"
   ]
  },
  {
   "cell_type": "code",
   "execution_count": 7,
   "metadata": {},
   "outputs": [
    {
     "data": {
      "text/html": [
       "<div>\n",
       "<style scoped>\n",
       "    .dataframe tbody tr th:only-of-type {\n",
       "        vertical-align: middle;\n",
       "    }\n",
       "\n",
       "    .dataframe tbody tr th {\n",
       "        vertical-align: top;\n",
       "    }\n",
       "\n",
       "    .dataframe thead th {\n",
       "        text-align: right;\n",
       "    }\n",
       "</style>\n",
       "<table border=\"1\" class=\"dataframe\">\n",
       "  <thead>\n",
       "    <tr style=\"text-align: right;\">\n",
       "      <th></th>\n",
       "      <th>title</th>\n",
       "      <th>author</th>\n",
       "      <th>text</th>\n",
       "    </tr>\n",
       "    <tr>\n",
       "      <th>id</th>\n",
       "      <th></th>\n",
       "      <th></th>\n",
       "      <th></th>\n",
       "    </tr>\n",
       "  </thead>\n",
       "  <tbody>\n",
       "    <tr>\n",
       "      <th>20-wmeisterlehrgoethe_s_werke-7+goethe_1</th>\n",
       "      <td>20-wmeisterlehrgoethe_s_werke-7+goethe</td>\n",
       "      <td>goethe</td>\n",
       "      <td>Erstes C a p i t e l Der Fruhling war in seine...</td>\n",
       "    </tr>\n",
       "    <tr>\n",
       "      <th>20-wmeisterlehrgoethe_s_werke-7+goethe_2</th>\n",
       "      <td>20-wmeisterlehrgoethe_s_werke-7+goethe</td>\n",
       "      <td>goethe</td>\n",
       "      <td>rlich sich davon Alechenschaft geben zu wollen...</td>\n",
       "    </tr>\n",
       "    <tr>\n",
       "      <th>20-wmeisterlehrgoethe_s_werke-7+goethe_3</th>\n",
       "      <td>20-wmeisterlehrgoethe_s_werke-7+goethe</td>\n",
       "      <td>goethe</td>\n",
       "      <td>ng bis an die Hauser hinan und kleine nutzbare...</td>\n",
       "    </tr>\n",
       "    <tr>\n",
       "      <th>20-wmeisterlehrgoethe_s_werke-7+goethe_4</th>\n",
       "      <td>20-wmeisterlehrgoethe_s_werke-7+goethe</td>\n",
       "      <td>goethe</td>\n",
       "      <td>und las Er schlen das Blatt einige mal durchge...</td>\n",
       "    </tr>\n",
       "    <tr>\n",
       "      <th>20-wmeisterlehrgoethe_s_werke-7+goethe_5</th>\n",
       "      <td>20-wmeisterlehrgoethe_s_werke-7+goethe</td>\n",
       "      <td>goethe</td>\n",
       "      <td>wohin fliehen Welt besser hatte der Geist mir ...</td>\n",
       "    </tr>\n",
       "    <tr>\n",
       "      <th>20-wmeisterlehrgoethe_s_werke-7+goethe_6</th>\n",
       "      <td>20-wmeisterlehrgoethe_s_werke-7+goethe</td>\n",
       "      <td>goethe</td>\n",
       "      <td>en Teich los Wilhelm eilte ihm nach aber zu sp...</td>\n",
       "    </tr>\n",
       "    <tr>\n",
       "      <th>20-wmeisterlehrgoethe_s_werke-7+goethe_7</th>\n",
       "      <td>20-wmeisterlehrgoethe_s_werke-7+goethe</td>\n",
       "      <td>goethe</td>\n",
       "      <td>ch dasteht wer selbst so viel als moglich an d...</td>\n",
       "    </tr>\n",
       "    <tr>\n",
       "      <th>20-wmeisterlehrgoethe_s_werke-7+goethe_8</th>\n",
       "      <td>20-wmeisterlehrgoethe_s_werke-7+goethe</td>\n",
       "      <td>goethe</td>\n",
       "      <td>gleich fur seinen alten Gonner Iaeno erlonnte ...</td>\n",
       "    </tr>\n",
       "    <tr>\n",
       "      <th>20-wmeisterlehrgoethe_s_werke-7+goethe_9</th>\n",
       "      <td>20-wmeisterlehrgoethe_s_werke-7+goethe</td>\n",
       "      <td>goethe</td>\n",
       "      <td>onderbar Der Abbe trat aus dem Zimmer winkte I...</td>\n",
       "    </tr>\n",
       "    <tr>\n",
       "      <th>20-wmeisterlehrgoethe_s_werke-7+goethe_10</th>\n",
       "      <td>20-wmeisterlehrgoethe_s_werke-7+goethe</td>\n",
       "      <td>goethe</td>\n",
       "      <td>lich ja mit Thranen in den Augen an als wollte...</td>\n",
       "    </tr>\n",
       "    <tr>\n",
       "      <th>20-wmeisterlehrgoethe_s_werke-7+goethe_11</th>\n",
       "      <td>20-wmeisterlehrgoethe_s_werke-7+goethe</td>\n",
       "      <td>goethe</td>\n",
       "      <td>dass sie alles an eine Idee wenig oder nichts...</td>\n",
       "    </tr>\n",
       "    <tr>\n",
       "      <th>20-wmeisterlehrgoethe_s_werke-7+goethe_12</th>\n",
       "      <td>20-wmeisterlehrgoethe_s_werke-7+goethe</td>\n",
       "      <td>goethe</td>\n",
       "      <td>g nicht abwarten Hier sind die Papiere sie dur...</td>\n",
       "    </tr>\n",
       "    <tr>\n",
       "      <th>20-wmeisterlehrgoethe_s_werke-7+goethe_13</th>\n",
       "      <td>20-wmeisterlehrgoethe_s_werke-7+goethe</td>\n",
       "      <td>goethe</td>\n",
       "      <td>ch ist aber jener ist unbequem nd man muss ihn...</td>\n",
       "    </tr>\n",
       "    <tr>\n",
       "      <th>20-wmeisterlehrgoethe_s_werke-7+goethe_14</th>\n",
       "      <td>20-wmeisterlehrgoethe_s_werke-7+goethe</td>\n",
       "      <td>goethe</td>\n",
       "      <td>rt die armen guten Schauspieler Wissen Sie den...</td>\n",
       "    </tr>\n",
       "    <tr>\n",
       "      <th>20-wmeisterlehrgoethe_s_werke-7+goethe_15</th>\n",
       "      <td>20-wmeisterlehrgoethe_s_werke-7+goethe</td>\n",
       "      <td>goethe</td>\n",
       "      <td>hdenkend dann sagte er zu seinem jungen Freund...</td>\n",
       "    </tr>\n",
       "    <tr>\n",
       "      <th>20-wmeisterlehrgoethe_s_werke-7+goethe_16</th>\n",
       "      <td>20-wmeisterlehrgoethe_s_werke-7+goethe</td>\n",
       "      <td>goethe</td>\n",
       "      <td>che Wort ist hell und klar gegen die Finsterni...</td>\n",
       "    </tr>\n",
       "    <tr>\n",
       "      <th>20-wmeisterlehrgoethe_s_werke-7+goethe_17</th>\n",
       "      <td>20-wmeisterlehrgoethe_s_werke-7+goethe</td>\n",
       "      <td>goethe</td>\n",
       "      <td>grosster Wahn ist dass er uberall Ungluck brin...</td>\n",
       "    </tr>\n",
       "    <tr>\n",
       "      <th>20-wmeisterlehrgoethe_s_werke-7+goethe_18</th>\n",
       "      <td>20-wmeisterlehrgoethe_s_werke-7+goethe</td>\n",
       "      <td>goethe</td>\n",
       "      <td>n man muss die Nacht zu Hulfe nehmen der Kutsc...</td>\n",
       "    </tr>\n",
       "    <tr>\n",
       "      <th>20-wmeisterlehrgoethe_s_werke-7+goethe_19</th>\n",
       "      <td>20-wmeisterlehrgoethe_s_werke-7+goethe</td>\n",
       "      <td>goethe</td>\n",
       "      <td>neue nahe Hoffnung jene verehrte und ge liebt...</td>\n",
       "    </tr>\n",
       "    <tr>\n",
       "      <th>20-wmeisterlehrgoethe_s_werke-7+goethe_20</th>\n",
       "      <td>20-wmeisterlehrgoethe_s_werke-7+goethe</td>\n",
       "      <td>goethe</td>\n",
       "      <td>ich ausgestanden habe seit dem er in Gefahr is...</td>\n",
       "    </tr>\n",
       "  </tbody>\n",
       "</table>\n",
       "</div>"
      ],
      "text/plain": [
       "                                                                            title  \\\n",
       "id                                                                                  \n",
       "20-wmeisterlehrgoethe_s_werke-7+goethe_1   20-wmeisterlehrgoethe_s_werke-7+goethe   \n",
       "20-wmeisterlehrgoethe_s_werke-7+goethe_2   20-wmeisterlehrgoethe_s_werke-7+goethe   \n",
       "20-wmeisterlehrgoethe_s_werke-7+goethe_3   20-wmeisterlehrgoethe_s_werke-7+goethe   \n",
       "20-wmeisterlehrgoethe_s_werke-7+goethe_4   20-wmeisterlehrgoethe_s_werke-7+goethe   \n",
       "20-wmeisterlehrgoethe_s_werke-7+goethe_5   20-wmeisterlehrgoethe_s_werke-7+goethe   \n",
       "20-wmeisterlehrgoethe_s_werke-7+goethe_6   20-wmeisterlehrgoethe_s_werke-7+goethe   \n",
       "20-wmeisterlehrgoethe_s_werke-7+goethe_7   20-wmeisterlehrgoethe_s_werke-7+goethe   \n",
       "20-wmeisterlehrgoethe_s_werke-7+goethe_8   20-wmeisterlehrgoethe_s_werke-7+goethe   \n",
       "20-wmeisterlehrgoethe_s_werke-7+goethe_9   20-wmeisterlehrgoethe_s_werke-7+goethe   \n",
       "20-wmeisterlehrgoethe_s_werke-7+goethe_10  20-wmeisterlehrgoethe_s_werke-7+goethe   \n",
       "20-wmeisterlehrgoethe_s_werke-7+goethe_11  20-wmeisterlehrgoethe_s_werke-7+goethe   \n",
       "20-wmeisterlehrgoethe_s_werke-7+goethe_12  20-wmeisterlehrgoethe_s_werke-7+goethe   \n",
       "20-wmeisterlehrgoethe_s_werke-7+goethe_13  20-wmeisterlehrgoethe_s_werke-7+goethe   \n",
       "20-wmeisterlehrgoethe_s_werke-7+goethe_14  20-wmeisterlehrgoethe_s_werke-7+goethe   \n",
       "20-wmeisterlehrgoethe_s_werke-7+goethe_15  20-wmeisterlehrgoethe_s_werke-7+goethe   \n",
       "20-wmeisterlehrgoethe_s_werke-7+goethe_16  20-wmeisterlehrgoethe_s_werke-7+goethe   \n",
       "20-wmeisterlehrgoethe_s_werke-7+goethe_17  20-wmeisterlehrgoethe_s_werke-7+goethe   \n",
       "20-wmeisterlehrgoethe_s_werke-7+goethe_18  20-wmeisterlehrgoethe_s_werke-7+goethe   \n",
       "20-wmeisterlehrgoethe_s_werke-7+goethe_19  20-wmeisterlehrgoethe_s_werke-7+goethe   \n",
       "20-wmeisterlehrgoethe_s_werke-7+goethe_20  20-wmeisterlehrgoethe_s_werke-7+goethe   \n",
       "\n",
       "                                           author  \\\n",
       "id                                                  \n",
       "20-wmeisterlehrgoethe_s_werke-7+goethe_1   goethe   \n",
       "20-wmeisterlehrgoethe_s_werke-7+goethe_2   goethe   \n",
       "20-wmeisterlehrgoethe_s_werke-7+goethe_3   goethe   \n",
       "20-wmeisterlehrgoethe_s_werke-7+goethe_4   goethe   \n",
       "20-wmeisterlehrgoethe_s_werke-7+goethe_5   goethe   \n",
       "20-wmeisterlehrgoethe_s_werke-7+goethe_6   goethe   \n",
       "20-wmeisterlehrgoethe_s_werke-7+goethe_7   goethe   \n",
       "20-wmeisterlehrgoethe_s_werke-7+goethe_8   goethe   \n",
       "20-wmeisterlehrgoethe_s_werke-7+goethe_9   goethe   \n",
       "20-wmeisterlehrgoethe_s_werke-7+goethe_10  goethe   \n",
       "20-wmeisterlehrgoethe_s_werke-7+goethe_11  goethe   \n",
       "20-wmeisterlehrgoethe_s_werke-7+goethe_12  goethe   \n",
       "20-wmeisterlehrgoethe_s_werke-7+goethe_13  goethe   \n",
       "20-wmeisterlehrgoethe_s_werke-7+goethe_14  goethe   \n",
       "20-wmeisterlehrgoethe_s_werke-7+goethe_15  goethe   \n",
       "20-wmeisterlehrgoethe_s_werke-7+goethe_16  goethe   \n",
       "20-wmeisterlehrgoethe_s_werke-7+goethe_17  goethe   \n",
       "20-wmeisterlehrgoethe_s_werke-7+goethe_18  goethe   \n",
       "20-wmeisterlehrgoethe_s_werke-7+goethe_19  goethe   \n",
       "20-wmeisterlehrgoethe_s_werke-7+goethe_20  goethe   \n",
       "\n",
       "                                                                                        text  \n",
       "id                                                                                            \n",
       "20-wmeisterlehrgoethe_s_werke-7+goethe_1   Erstes C a p i t e l Der Fruhling war in seine...  \n",
       "20-wmeisterlehrgoethe_s_werke-7+goethe_2   rlich sich davon Alechenschaft geben zu wollen...  \n",
       "20-wmeisterlehrgoethe_s_werke-7+goethe_3   ng bis an die Hauser hinan und kleine nutzbare...  \n",
       "20-wmeisterlehrgoethe_s_werke-7+goethe_4   und las Er schlen das Blatt einige mal durchge...  \n",
       "20-wmeisterlehrgoethe_s_werke-7+goethe_5   wohin fliehen Welt besser hatte der Geist mir ...  \n",
       "20-wmeisterlehrgoethe_s_werke-7+goethe_6   en Teich los Wilhelm eilte ihm nach aber zu sp...  \n",
       "20-wmeisterlehrgoethe_s_werke-7+goethe_7   ch dasteht wer selbst so viel als moglich an d...  \n",
       "20-wmeisterlehrgoethe_s_werke-7+goethe_8   gleich fur seinen alten Gonner Iaeno erlonnte ...  \n",
       "20-wmeisterlehrgoethe_s_werke-7+goethe_9   onderbar Der Abbe trat aus dem Zimmer winkte I...  \n",
       "20-wmeisterlehrgoethe_s_werke-7+goethe_10  lich ja mit Thranen in den Augen an als wollte...  \n",
       "20-wmeisterlehrgoethe_s_werke-7+goethe_11   dass sie alles an eine Idee wenig oder nichts...  \n",
       "20-wmeisterlehrgoethe_s_werke-7+goethe_12  g nicht abwarten Hier sind die Papiere sie dur...  \n",
       "20-wmeisterlehrgoethe_s_werke-7+goethe_13  ch ist aber jener ist unbequem nd man muss ihn...  \n",
       "20-wmeisterlehrgoethe_s_werke-7+goethe_14  rt die armen guten Schauspieler Wissen Sie den...  \n",
       "20-wmeisterlehrgoethe_s_werke-7+goethe_15  hdenkend dann sagte er zu seinem jungen Freund...  \n",
       "20-wmeisterlehrgoethe_s_werke-7+goethe_16  che Wort ist hell und klar gegen die Finsterni...  \n",
       "20-wmeisterlehrgoethe_s_werke-7+goethe_17  grosster Wahn ist dass er uberall Ungluck brin...  \n",
       "20-wmeisterlehrgoethe_s_werke-7+goethe_18  n man muss die Nacht zu Hulfe nehmen der Kutsc...  \n",
       "20-wmeisterlehrgoethe_s_werke-7+goethe_19   neue nahe Hoffnung jene verehrte und ge liebt...  \n",
       "20-wmeisterlehrgoethe_s_werke-7+goethe_20  ich ausgestanden habe seit dem er in Gefahr is...  "
      ]
     },
     "execution_count": 7,
     "metadata": {},
     "output_type": "execute_result"
    }
   ],
   "source": [
    "source.head(20)"
   ]
  },
  {
   "cell_type": "code",
   "execution_count": 8,
   "metadata": {},
   "outputs": [
    {
     "data": {
      "text/html": [
       "<div>\n",
       "<style scoped>\n",
       "    .dataframe tbody tr th:only-of-type {\n",
       "        vertical-align: middle;\n",
       "    }\n",
       "\n",
       "    .dataframe tbody tr th {\n",
       "        vertical-align: top;\n",
       "    }\n",
       "\n",
       "    .dataframe thead th {\n",
       "        text-align: right;\n",
       "    }\n",
       "</style>\n",
       "<table border=\"1\" class=\"dataframe\">\n",
       "  <thead>\n",
       "    <tr style=\"text-align: right;\">\n",
       "      <th></th>\n",
       "      <th>title</th>\n",
       "      <th>author</th>\n",
       "      <th>text</th>\n",
       "    </tr>\n",
       "    <tr>\n",
       "      <th>id</th>\n",
       "      <th></th>\n",
       "      <th></th>\n",
       "      <th></th>\n",
       "    </tr>\n",
       "  </thead>\n",
       "  <tbody>\n",
       "    <tr>\n",
       "      <th>herder_05+fga</th>\n",
       "      <td>herder_05+fga</td>\n",
       "      <td>fga</td>\n",
       "      <td>Gottingen und Gema I D Michaclis Verfuch uber ...</td>\n",
       "    </tr>\n",
       "    <tr>\n",
       "      <th>unverified_clean_01+fga</th>\n",
       "      <td>unverified_clean_01+fga</td>\n",
       "      <td>fga</td>\n",
       "      <td>Danzig Cymbelline ein Trauerspiel nach einem v...</td>\n",
       "    </tr>\n",
       "    <tr>\n",
       "      <th>verified_clean_04+goethe</th>\n",
       "      <td>verified_clean_04+goethe</td>\n",
       "      <td>goethe</td>\n",
       "      <td>Nachrede statt der versprochenen Vorrede Die b...</td>\n",
       "    </tr>\n",
       "    <tr>\n",
       "      <th>herder_04+fga</th>\n",
       "      <td>herder_04+fga</td>\n",
       "      <td>fga</td>\n",
       "      <td>Helle D Fel xswleyi Psksplrrnlie Evangelii Joh...</td>\n",
       "    </tr>\n",
       "    <tr>\n",
       "      <th>herder_06+fga</th>\n",
       "      <td>herder_06+fga</td>\n",
       "      <td>fga</td>\n",
       "      <td>Leipzig dklnekktmgm ahek den Unterschied der S...</td>\n",
       "    </tr>\n",
       "  </tbody>\n",
       "</table>\n",
       "</div>"
      ],
      "text/plain": [
       "                                             title  author  \\\n",
       "id                                                           \n",
       "herder_05+fga                        herder_05+fga     fga   \n",
       "unverified_clean_01+fga    unverified_clean_01+fga     fga   \n",
       "verified_clean_04+goethe  verified_clean_04+goethe  goethe   \n",
       "herder_04+fga                        herder_04+fga     fga   \n",
       "herder_06+fga                        herder_06+fga     fga   \n",
       "\n",
       "                                                                       text  \n",
       "id                                                                           \n",
       "herder_05+fga             Gottingen und Gema I D Michaclis Verfuch uber ...  \n",
       "unverified_clean_01+fga   Danzig Cymbelline ein Trauerspiel nach einem v...  \n",
       "verified_clean_04+goethe  Nachrede statt der versprochenen Vorrede Die b...  \n",
       "herder_04+fga             Helle D Fel xswleyi Psksplrrnlie Evangelii Joh...  \n",
       "herder_06+fga             Leipzig dklnekktmgm ahek den Unterschied der S...  "
      ]
     },
     "execution_count": 8,
     "metadata": {},
     "output_type": "execute_result"
    }
   ],
   "source": [
    "target.head()"
   ]
  },
  {
   "cell_type": "code",
   "execution_count": 9,
   "metadata": {},
   "outputs": [
    {
     "data": {
      "text/plain": [
       "author  title                                                          \n",
       "goethe  19-wmeisterlehrgoethe_s_werke-7+goethe                             487\n",
       "        43-nachgelassene-goethe_s_werke-29+goethe                          421\n",
       "        45-nachgelassene-goethe_s_werke-29+goethe                          410\n",
       "        39-verschiedenes-kleine-sprosa-idyllen-goethe_s_werke-27+goethe    409\n",
       "        35-cellini-usw-goethe_s_werke-15+goethe                            408\n",
       "Name: title, dtype: int64"
      ]
     },
     "execution_count": 9,
     "metadata": {},
     "output_type": "execute_result"
    }
   ],
   "source": [
    "source.groupby('author')['title'].value_counts().head()"
   ]
  },
  {
   "cell_type": "code",
   "execution_count": 10,
   "metadata": {},
   "outputs": [
    {
     "data": {
      "text/plain": [
       "12492"
      ]
     },
     "execution_count": 10,
     "metadata": {},
     "output_type": "execute_result"
    }
   ],
   "source": [
    "len(source)"
   ]
  },
  {
   "cell_type": "code",
   "execution_count": 11,
   "metadata": {},
   "outputs": [
    {
     "data": {
      "image/png": "[encoded data removed]",
      "text/plain": [
       "<Figure size 432x288 with 1 Axes>"
      ]
     },
     "metadata": {
      "needs_background": "light"
     },
     "output_type": "display_data"
    }
   ],
   "source": [
    "source.author.value_counts().plot('bar');"
   ]
  },
  {
   "cell_type": "code",
   "execution_count": 12,
   "metadata": {},
   "outputs": [],
   "source": [
    "unique_src = source.groupby(['title','author']).size().reset_index()\n",
    "x = unique_src['title']\n",
    "y = unique_src['author']"
   ]
  },
  {
   "cell_type": "code",
   "execution_count": 13,
   "metadata": {},
   "outputs": [
    {
     "name": "stdout",
     "output_type": "stream",
     "text": [
      "(52,) (52,)\n",
      "(18,) (18,)\n"
     ]
    }
   ],
   "source": [
    "train_titles, dev_titles, train_authors, dev_authors = train_test_split(x, y,\n",
    "                                                                        test_size=.25,\n",
    "                                                                        stratify=y,\n",
    "                                                                        random_state=42)\n",
    "print(train_titles.shape, train_authors.shape)\n",
    "print(dev_titles.shape, dev_authors.shape)"
   ]
  },
  {
   "cell_type": "code",
   "execution_count": 14,
   "metadata": {},
   "outputs": [
    {
     "name": "stdout",
     "output_type": "stream",
     "text": [
      "(9622, 3)\n",
      "(2870, 3)\n"
     ]
    }
   ],
   "source": [
    "train = source[source['title'].isin(train_titles)]\n",
    "dev = source[source['title'].isin(dev_titles)]\n",
    "print(train.shape)\n",
    "print(dev.shape)"
   ]
  },
  {
   "cell_type": "code",
   "execution_count": 15,
   "metadata": {},
   "outputs": [
    {
     "data": {
      "image/png": "[encoded data removed]",
      "text/plain": [
       "<Figure size 432x288 with 1 Axes>"
      ]
     },
     "metadata": {
      "needs_background": "light"
     },
     "output_type": "display_data"
    }
   ],
   "source": [
    "train['author'].value_counts().plot('bar');"
   ]
  },
  {
   "cell_type": "code",
   "execution_count": 16,
   "metadata": {},
   "outputs": [
    {
     "data": {
      "image/png": "[encoded data removed]",
      "text/plain": [
       "<Figure size 432x288 with 1 Axes>"
      ]
     },
     "metadata": {
      "needs_background": "light"
     },
     "output_type": "display_data"
    }
   ],
   "source": [
    "dev['author'].value_counts().plot('bar');"
   ]
  },
  {
   "cell_type": "markdown",
   "metadata": {},
   "source": [
    "# Restrict Goethe samples"
   ]
  },
  {
   "cell_type": "markdown",
   "metadata": {},
   "source": [
    "### Vectorization"
   ]
  },
  {
   "cell_type": "code",
   "execution_count": 17,
   "metadata": {},
   "outputs": [],
   "source": [
    "# set vectorization params:\n",
    "p_char = {'use_idf': True,\n",
    "     'max_features': 10000,\n",
    "     'analyzer': 'char',\n",
    "     'min_df': 2,\n",
    "     'lowercase': True,\n",
    "     'norm': 'l1',\n",
    "     'ngram_range': (4, 4)}\n",
    "\n",
    "p_word = {'use_idf': True,\n",
    "     'max_features': 50000,\n",
    "     'analyzer': 'word',\n",
    "     'min_df': 2,\n",
    "     'lowercase': True,\n",
    "     'norm': 'l1',\n",
    "     'ngram_range': (1, 2)}"
   ]
  },
  {
   "cell_type": "markdown",
   "metadata": {},
   "source": [
    "We wrap this in a single fucntion:"
   ]
  },
  {
   "cell_type": "code",
   "execution_count": 18,
   "metadata": {},
   "outputs": [],
   "source": [
    "def downsample_goethe(df):\n",
    "    goethe_samples = df[df['author'] == 'goethe']\n",
    "    non_goethe_samples = df[df['author'] != 'goethe']\n",
    "    \n",
    "    vectorizer = TfidfVectorizer(**p_char)\n",
    "    non_goethe_X = vectorizer.fit_transform(non_goethe_samples.text).toarray()\n",
    "    goethe_X = vectorizer.transform(goethe_samples.text).toarray()\n",
    "    \n",
    "    scaler = StandardScaler()\n",
    "    non_goethe_X = scaler.fit_transform(non_goethe_X)\n",
    "    goethe_X = scaler.transform(goethe_X)\n",
    "    \n",
    "    centroid = np.mean(non_goethe_X, axis=0)\n",
    "    dists = cdist(goethe_X, [centroid], 'cosine').ravel()\n",
    "    \n",
    "    nn_idxs = dists.argsort()[:len(non_goethe_samples)]\n",
    "    restricted_goethe_samples = goethe_samples.iloc[nn_idxs, :]\n",
    "    \n",
    "    return pd.concat((restricted_goethe_samples, non_goethe_samples))"
   ]
  },
  {
   "cell_type": "code",
   "execution_count": 19,
   "metadata": {},
   "outputs": [
    {
     "data": {
      "image/png": "[encoded data removed]",
      "text/plain": [
       "<Figure size 432x288 with 1 Axes>"
      ]
     },
     "metadata": {
      "needs_background": "light"
     },
     "output_type": "display_data"
    }
   ],
   "source": [
    "train = downsample_goethe(train)\n",
    "train.author.value_counts().plot('bar');"
   ]
  },
  {
   "cell_type": "code",
   "execution_count": 20,
   "metadata": {},
   "outputs": [
    {
     "data": {
      "image/png": "[encoded data removed]",
      "text/plain": [
       "<Figure size 432x288 with 1 Axes>"
      ]
     },
     "metadata": {
      "needs_background": "light"
     },
     "output_type": "display_data"
    }
   ],
   "source": [
    "dev = downsample_goethe(dev)\n",
    "dev.author.value_counts().plot('bar');"
   ]
  },
  {
   "cell_type": "code",
   "execution_count": 21,
   "metadata": {},
   "outputs": [],
   "source": [
    "encoder = LabelEncoder()\n",
    "train_y = encoder.fit_transform(train.author)\n",
    "dev_y = encoder.transform(dev.author)"
   ]
  },
  {
   "cell_type": "code",
   "execution_count": 22,
   "metadata": {},
   "outputs": [],
   "source": [
    "vectorizer = TfidfVectorizer(**p_char)\n",
    "train_X = vectorizer.fit_transform(train.text).toarray()\n",
    "dev_X = vectorizer.transform(dev.text).toarray()"
   ]
  },
  {
   "cell_type": "code",
   "execution_count": 23,
   "metadata": {},
   "outputs": [],
   "source": [
    "scaler = StandardScaler()\n",
    "train_X = scaler.fit_transform(train_X)\n",
    "dev_X = scaler.transform(dev_X)"
   ]
  },
  {
   "cell_type": "code",
   "execution_count": 24,
   "metadata": {},
   "outputs": [
    {
     "name": "stdout",
     "output_type": "stream",
     "text": [
      "(4660, 10000) (4660,)\n",
      "(1658, 10000) (1658,)\n"
     ]
    }
   ],
   "source": [
    "print(train_X.shape, train_y.shape)\n",
    "print(dev_X.shape, dev_y.shape)"
   ]
  },
  {
   "cell_type": "markdown",
   "metadata": {},
   "source": [
    "## Attribution"
   ]
  },
  {
   "cell_type": "markdown",
   "metadata": {},
   "source": [
    "Simple feature dropout:"
   ]
  },
  {
   "cell_type": "code",
   "execution_count": 38,
   "metadata": {},
   "outputs": [],
   "source": [
    "def feature_dropout(X1, X2, p=.5):\n",
    "    n = X1.shape[1]\n",
    "    idxs = np.random.choice(n, int(n * p), replace=False)\n",
    "    return X1[:, idxs], X2[:, idxs]"
   ]
  },
  {
   "cell_type": "code",
   "execution_count": 39,
   "metadata": {},
   "outputs": [],
   "source": [
    "def instance_dropout(X, y, n=30):\n",
    "    nb = X.shape[0]\n",
    "    idxs = np.random.choice(nb, n, replace=False)\n",
    "    return X[idxs, :], y[idxs]"
   ]
  },
  {
   "cell_type": "code",
   "execution_count": 40,
   "metadata": {},
   "outputs": [],
   "source": [
    "METRICS = {'cosine': 'cosine',\n",
    "           'minmax': minmax}"
   ]
  },
  {
   "cell_type": "code",
   "execution_count": 41,
   "metadata": {},
   "outputs": [],
   "source": [
    "class Attributor(object):\n",
    "    def __init__(self, iters=100, base='profile',\n",
    "                 rnd_prop=.5, random_state=1066,\n",
    "                 num_instances=30, metric='cosine',\n",
    "                 rnd_state=1234):\n",
    "        assert base in ('profile', 'instance')\n",
    "        assert metric in METRICS\n",
    "        assert (rnd_prop >= 0.0) and (rnd_prop <= 1.0)\n",
    "        \n",
    "        np.random.seed(rnd_state)\n",
    "        self.metric = METRICS[metric]\n",
    "        self.iters = iters\n",
    "        self.base = base\n",
    "        self.rnd_prop = rnd_prop\n",
    "        self.num_instances = num_instances\n",
    "    \n",
    "    def fit(self, X, y):\n",
    "        if self.base == 'profile':\n",
    "            self.train_X = NearestCentroid().fit(X, y).centroids_\n",
    "            self.train_y = np.array(range(self.train_X.shape[0]))\n",
    "            \n",
    "        elif self.base == 'instance':\n",
    "            self.train_X = X.copy()\n",
    "            self.train_y = y.copy()\n",
    "        \n",
    "        self.num_classes_ = len(set(y))\n",
    "    \n",
    "    def predict(self, X, target=-1):\n",
    "        preds = self.predict_proba(X, target=target)\n",
    "        return np.argmax(preds, axis=1)\n",
    "    \n",
    "    def predict_proba(self, X, target=-1):\n",
    "        nb = X.shape[0]\n",
    "        probas = np.zeros((nb, self.num_classes_))\n",
    "        \n",
    "        if target > -1:\n",
    "            targets = self.train_y == target\n",
    "            target_X = self.train_X[targets]\n",
    "            target_y = self.train_y[targets]\n",
    "            \n",
    "            non_targets = self.train_y != target\n",
    "            non_target_X = self.train_X[non_targets]\n",
    "            non_target_y = self.train_y[non_targets]\n",
    "            \n",
    "        for it in range(self.iters):\n",
    "            if it and (it % 25) == 0:\n",
    "                print(f'-> iter {it}')\n",
    "                \n",
    "            if target > -1:\n",
    "                # sample instances\n",
    "                selected_X, selected_y = instance_dropout(non_target_X, non_target_y,\n",
    "                                                   n=self.num_instances)\n",
    "                target_X_, target_y_ = instance_dropout(target_X, target_y,\n",
    "                                                   n=self.num_instances)\n",
    "                \n",
    "                train_X_ = np.vstack((target_X_, selected_X))\n",
    "                train_y_ = np.hstack((target_y_, selected_y))\n",
    "            else:\n",
    "                train_X_ = self.train_X\n",
    "                train_y_ = self.train_y\n",
    "            \n",
    "            # apply feature dropout:\n",
    "            if self.rnd_prop < 1.0:\n",
    "                train_X_, X_ = feature_dropout(train_X_, X, p=self.rnd_prop)\n",
    "            else:\n",
    "                train_X_, X_ = train_X_, X\n",
    "            \n",
    "            # fit simple knn:\n",
    "            knn = KNN(k=1, metric=self.metric)\n",
    "            knn.fit(train_X_, train_y_)\n",
    "            pred = np.array(knn.predict(X_))\n",
    "            probas[np.arange(nb), pred] += 1\n",
    "            \n",
    "        probas = normalize(probas, norm='l1')    \n",
    "        return probas"
   ]
  },
  {
   "cell_type": "markdown",
   "metadata": {},
   "source": [
    "Simple attribution on dev set: no dropout, no imposters:"
   ]
  },
  {
   "cell_type": "code",
   "execution_count": 42,
   "metadata": {},
   "outputs": [
    {
     "name": "stdout",
     "output_type": "stream",
     "text": [
      "Accuracy: 0.8003618817852834\n",
      "F1-score: 0.785480117367746\n"
     ]
    }
   ],
   "source": [
    "attributor = Attributor(iters=1, base='instance',\n",
    "                        rnd_prop=1.)\n",
    "attributor.fit(train_X, train_y)\n",
    "preds = attributor.predict(dev_X)\n",
    "\n",
    "import sklearn.metrics as metrics\n",
    "print(f'Accuracy: {metrics.accuracy_score(preds, dev_y)}')\n",
    "print(f'F1-score: {metrics.f1_score(preds, dev_y, average=\"macro\")}')"
   ]
  },
  {
   "cell_type": "code",
   "execution_count": 67,
   "metadata": {},
   "outputs": [
    {
     "name": "stdout",
     "output_type": "stream",
     "text": [
      "-> iter 25\n",
      "-> iter 50\n",
      "-> iter 75\n",
      "-> iter 100\n",
      "-> iter 125\n",
      "-> iter 150\n",
      "-> iter 175\n",
      "-> iter 200\n",
      "-> iter 225\n",
      "Accuracy: 0.8293124246079614\n",
      "F1-score: 0.8106777494901376\n"
     ]
    }
   ],
   "source": [
    "attributor = Attributor(iters=250, base='instance',\n",
    "                        rnd_prop=.5)\n",
    "attributor.fit(train_X, train_y)\n",
    "preds = attributor.predict(dev_X, target=-1)\n",
    "print(f'Accuracy: {metrics.accuracy_score(preds, dev_y)}')\n",
    "print(f'F1-score: {metrics.f1_score(preds, dev_y, average=\"macro\")}')"
   ]
  },
  {
   "cell_type": "code",
   "execution_count": 68,
   "metadata": {},
   "outputs": [
    {
     "name": "stdout",
     "output_type": "stream",
     "text": [
      "-> iter 25\n",
      "-> iter 50\n",
      "-> iter 75\n",
      "-> iter 100\n",
      "-> iter 125\n",
      "-> iter 150\n",
      "-> iter 175\n",
      "-> iter 200\n",
      "-> iter 225\n",
      "Accuracy: 0.9125452352231604\n",
      "F1-score: 0.9022062058056705\n"
     ]
    }
   ],
   "source": [
    "attributor = Attributor(iters=250, base='instance',\n",
    "                    rnd_prop=.5, num_instances=100)\n",
    "attributor.fit(train_X, train_y)\n",
    "\n",
    "target_idx = list(encoder.classes_).index('goethe')\n",
    "preds = attributor.predict(dev_X, target=target_idx)\n",
    "\n",
    "print(f'Accuracy: {metrics.accuracy_score(preds, dev_y)}')\n",
    "print(f'F1-score: {metrics.f1_score(preds, dev_y, average=\"macro\")}')"
   ]
  },
  {
   "cell_type": "code",
   "execution_count": 69,
   "metadata": {},
   "outputs": [],
   "source": [
    "def plot_confusion_matrix(cm, target_names,\n",
    "                          title='Confusion matrix',\n",
    "                          cmap=plt.cm.Blues):\n",
    "    plt.imshow(cm, interpolation='nearest', cmap=cmap)\n",
    "    plt.tick_params(labelsize=6)\n",
    "    plt.title(title)\n",
    "    plt.colorbar()\n",
    "    tick_marks = np.arange(len(target_names))\n",
    "    plt.xticks(tick_marks, target_names, rotation=90)\n",
    "    plt.yticks(tick_marks, target_names)\n",
    "    thresh = cm.max() / 2.\n",
    "    for i, j in product(range(cm.shape[0]), range(cm.shape[1])):\n",
    "        plt.text(j, i, round(cm[i, j], 2),\n",
    "                 horizontalalignment=\"center\",\n",
    "                 color=\"white\" if cm[i, j] > thresh else \"black\")\n",
    "    plt.tight_layout()\n",
    "    plt.ylabel('True label')\n",
    "    plt.xlabel('Predicted label')\n",
    "    plt.plot()"
   ]
  },
  {
   "cell_type": "code",
   "execution_count": 70,
   "metadata": {},
   "outputs": [
    {
     "name": "stderr",
     "output_type": "stream",
     "text": [
      "/Users/mikekestemont/anaconda3/envs/py36/lib/python3.6/site-packages/sklearn/preprocessing/label.py:151: DeprecationWarning: The truth value of an empty array is ambiguous. Returning False, but in future this will result in an error. Use `array.size > 0` to check that an array is not empty.\n",
      "  if diff:\n",
      "/Users/mikekestemont/anaconda3/envs/py36/lib/python3.6/site-packages/sklearn/preprocessing/label.py:151: DeprecationWarning: The truth value of an empty array is ambiguous. Returning False, but in future this will result in an error. Use `array.size > 0` to check that an array is not empty.\n",
      "  if diff:\n"
     ]
    },
    {
     "data": {
      "image/png": "[encoded data removed]",
      "text/plain": [
       "<Figure size 432x288 with 2 Axes>"
      ]
     },
     "metadata": {
      "needs_background": "light"
     },
     "output_type": "display_data"
    }
   ],
   "source": [
    "T = encoder.inverse_transform(dev_y)\n",
    "P = encoder.inverse_transform(preds)\n",
    "cm = confusion_matrix(T, P, labels=encoder.classes_)\n",
    "cm_normalized = cm.astype('float') / cm.sum(axis=1)[:, np.newaxis]\n",
    "np.set_printoptions(precision=2)\n",
    "plot_confusion_matrix(cm_normalized, target_names=encoder.classes_)"
   ]
  },
  {
   "cell_type": "markdown",
   "metadata": {},
   "source": [
    "## Test data"
   ]
  },
  {
   "cell_type": "code",
   "execution_count": 71,
   "metadata": {},
   "outputs": [],
   "source": [
    "def heat(test_probas, candidates, titles):\n",
    "    fig = plt.figure(figsize=(10, 20))\n",
    "    plt.imshow(test_probas, interpolation='nearest', cmap=plt.cm.Reds,\n",
    "              aspect='auto')\n",
    "    plt.tick_params(labelsize=6)\n",
    "    plt.title('Verification probabilities')\n",
    "    plt.colorbar()\n",
    "    tick_marks = np.arange(len(candidates))\n",
    "    plt.xticks(tick_marks, candidates, rotation=90, fontsize=14)\n",
    "    tick_marks = np.arange(len(titles))\n",
    "    plt.yticks(tick_marks, titles, fontsize=14)\n",
    "    thresh = test_probas.max() / 2.\n",
    "    for i, j in product(range(test_probas.shape[0]), range(test_probas.shape[1])):\n",
    "        plt.text(j, i, round(test_probas[i, j], 2),\n",
    "                 horizontalalignment=\"center\",\n",
    "                 color=\"white\" if test_probas[i, j] > thresh else \"black\")\n",
    "    plt.tight_layout()\n",
    "    plt.ylabel('Title')\n",
    "    plt.xlabel('Candidate')\n",
    "    plt.plot()"
   ]
  },
  {
   "cell_type": "code",
   "execution_count": 72,
   "metadata": {},
   "outputs": [],
   "source": [
    "test_X = vectorizer.transform(target.text).toarray()\n",
    "test_X = scaler.transform(test_X)"
   ]
  },
  {
   "cell_type": "code",
   "execution_count": 73,
   "metadata": {},
   "outputs": [
    {
     "name": "stdout",
     "output_type": "stream",
     "text": [
      "-> iter 25\n",
      "-> iter 50\n",
      "-> iter 75\n",
      "-> iter 100\n",
      "-> iter 125\n",
      "-> iter 150\n",
      "-> iter 175\n",
      "-> iter 200\n",
      "-> iter 225\n",
      "(15, 2)\n"
     ]
    },
    {
     "data": {
      "image/png": "[encoded data removed]",
      "text/plain": [
       "<Figure size 720x1440 with 2 Axes>"
      ]
     },
     "metadata": {
      "needs_background": "light"
     },
     "output_type": "display_data"
    }
   ],
   "source": [
    "attributor = Attributor(iters=250, base='instance',\n",
    "                        rnd_prop=.5, num_instances=100)\n",
    "attributor.fit(train_X, train_y)\n",
    "test_probas = attributor.predict_proba(test_X, target=target_idx)\n",
    "final = np.zeros((test_probas.shape[0], 2))\n",
    "final[:, 0] = test_probas[:, 0]\n",
    "final[:, 1] = test_probas[:, 1] + test_probas[:, 2]\n",
    "print(final.shape)\n",
    "heat(final, ['goethe', 'not-goethe'], target.title)"
   ]
  },
  {
   "cell_type": "code",
   "execution_count": 74,
   "metadata": {},
   "outputs": [
    {
     "data": {
      "text/plain": [
       "<matplotlib.axes._subplots.AxesSubplot at 0x12b30f908>"
      ]
     },
     "execution_count": 74,
     "metadata": {},
     "output_type": "execute_result"
    },
    {
     "data": {
      "image/png": "[encoded data removed]",
      "text/plain": [
       "<Figure size 432x288 with 1 Axes>"
      ]
     },
     "metadata": {
      "needs_background": "light"
     },
     "output_type": "display_data"
    }
   ],
   "source": [
    "target['length'] = target.text.str.len()\n",
    "target.length.plot('bar')"
   ]
  },
  {
   "cell_type": "markdown",
   "metadata": {},
   "source": [
    "## Craig's Zeta"
   ]
  },
  {
   "cell_type": "code",
   "execution_count": 75,
   "metadata": {},
   "outputs": [],
   "source": [
    "from sklearn.feature_extraction.text import CountVectorizer\n",
    "\n",
    "# set vectorization params:\n",
    "zeta_p = {'binary': True,\n",
    "          'max_features': 10000,\n",
    "          'analyzer': 'word',\n",
    "          'min_df': 2}\n",
    "\n",
    "T = tuple(train.text[train.author == 'goethe'])\n",
    "C = tuple(train.text[train.author != 'goethe'])\n",
    "zeta_vec = CountVectorizer(**zeta_p).fit(T + C)\n",
    "T = zeta_vec.transform(T).toarray()\n",
    "C = zeta_vec.transform(C).toarray()"
   ]
  },
  {
   "cell_type": "code",
   "execution_count": 76,
   "metadata": {},
   "outputs": [
    {
     "name": "stdout",
     "output_type": "stream",
     "text": [
      "Number of Goethe: 2330\n",
      "Number of others: 2330\n"
     ]
    }
   ],
   "source": [
    "n_T = T.shape[0]\n",
    "n_C = C.shape[0]\n",
    "print(f'Number of Goethe: {n_T}')\n",
    "print(f'Number of others: {n_C}')"
   ]
  },
  {
   "cell_type": "code",
   "execution_count": 77,
   "metadata": {},
   "outputs": [],
   "source": [
    "dp_T = T.sum(axis=0) / n_T\n",
    "dp_C = C.sum(axis=0) / n_C"
   ]
  },
  {
   "cell_type": "code",
   "execution_count": 78,
   "metadata": {},
   "outputs": [],
   "source": [
    "Z = dp_T - dp_C"
   ]
  },
  {
   "cell_type": "code",
   "execution_count": 79,
   "metadata": {},
   "outputs": [],
   "source": [
    "zeta_vocab = zeta_vec.get_feature_names()\n",
    "ranked = [(zeta_vocab[idx], Z[idx]) for idx in np.argsort(Z)]"
   ]
  },
  {
   "cell_type": "code",
   "execution_count": 80,
   "metadata": {},
   "outputs": [
    {
     "name": "stdout",
     "output_type": "stream",
     "text": [
      "-> words under-used by Goethe:\n",
      "   also -0.315\n",
      "   oder -0.301\n",
      "   bey -0.222\n",
      "   hat -0.213\n",
      "   ge -0.207\n",
      "   dies -0.207\n",
      "   kann -0.192\n",
      "   menschen -0.189\n",
      "   blos -0.173\n",
      "   alle -0.17\n",
      "   kein -0.169\n",
      "   anders -0.146\n",
      "   sei -0.145\n",
      "   muss -0.144\n",
      "   seele -0.143\n",
      "   andre -0.143\n",
      "   wenn -0.137\n",
      "   ihrer -0.134\n",
      "   haben -0.133\n",
      "   sondern -0.13\n",
      "   wer -0.13\n",
      "   unsrer -0.129\n",
      "   ihnen -0.127\n",
      "   mensch -0.123\n",
      "   dunkt -0.121\n",
      "====================\n",
      "-> words over-used by Goethe:\n",
      "   bei 0.283\n",
      "   mir 0.241\n",
      "   indem 0.189\n",
      "   sey 0.188\n",
      "   mich 0.163\n",
      "   schon 0.158\n",
      "   besonders 0.156\n",
      "   hier 0.149\n",
      "   wieder 0.146\n",
      "   doch 0.145\n",
      "   sich 0.133\n",
      "   nun 0.131\n",
      "   war 0.125\n",
      "   wir 0.122\n",
      "   sah 0.121\n",
      "   welche 0.121\n",
      "   vor 0.115\n",
      "   meine 0.111\n",
      "   sehen 0.11\n",
      "   man 0.109\n",
      "   seite 0.106\n",
      "   sogleich 0.102\n",
      "   jedoch 0.102\n",
      "   farben 0.101\n",
      "   an 0.1\n"
     ]
    }
   ],
   "source": [
    "print('-> words under-used by Goethe:')\n",
    "for i in range(25):\n",
    "    w, s = ranked[i]\n",
    "    print(f'   {w} {s:{0}.{3}}')\n",
    "\n",
    "print('=' * 20)\n",
    "\n",
    "print('-> words over-used by Goethe:')\n",
    "for i in range(25):\n",
    "    w, s = ranked[-i-1]\n",
    "    print(f'   {w} {s:{0}.{3}}')"
   ]
  },
  {
   "cell_type": "code",
   "execution_count": 81,
   "metadata": {},
   "outputs": [
    {
     "data": {
      "image/png": "[encoded data removed]",
      "text/plain": [
       "<Figure size 360x720 with 2 Axes>"
      ]
     },
     "metadata": {
      "needs_background": "light"
     },
     "output_type": "display_data"
    }
   ],
   "source": [
    "width = .4\n",
    "m = 15\n",
    "fig = plt.figure(figsize=(5, 10))\n",
    "\n",
    "goe_labels, goe_scores = zip(*ranked[:m])\n",
    "non_labels, non_scores = zip(*ranked[-m:])\n",
    "pos = np.arange(m) - (width / 2)\n",
    "\n",
    "ax1 = fig.add_subplot(111)\n",
    "plt.barh(pos, goe_scores, width, label='Goethe', color=\"#e74c3c\")\n",
    "\n",
    "plt.yticks(pos, non_labels)\n",
    "ax1.set_ylabel(f'top {m} words non-Goethe words')\n",
    "\n",
    "ax2 = ax1.twinx()\n",
    "ax2.barh(pos, non_scores, width, label='non-Goethe', color='#2ecc71')\n",
    "ax2.set_yticks(pos)\n",
    "ax2.set_yticklabels(goe_labels)\n",
    "\n",
    "plt.xlim((-.6, +.6))\n",
    "plt.axvline(0, color='lightgrey')\n",
    "ax2.set_ylabel(f'top {m} words Goethe words')\n",
    "plt.xlabel('Zeta scores')\n",
    "plt.title(f'Zeta: Goethe vs non-Goethe');"
   ]
  },
  {
   "cell_type": "markdown",
   "metadata": {},
   "source": [
    "## Verification"
   ]
  },
  {
   "cell_type": "markdown",
   "metadata": {},
   "source": [
    "## Creation of imposter samples"
   ]
  },
  {
   "cell_type": "code",
   "execution_count": 25,
   "metadata": {},
   "outputs": [],
   "source": [
    "samples = []\n",
    "outdir = 'data/verification/imposter_samples'\n",
    "\n",
    "try:\n",
    "    shutil.rmtree(outdir)\n",
    "except FileNotFoundError:\n",
    "    pass\n",
    "os.mkdir(outdir)"
   ]
  },
  {
   "cell_type": "code",
   "execution_count": 26,
   "metadata": {},
   "outputs": [
    {
     "name": "stdout",
     "output_type": "stream",
     "text": [
      "data/verification/FgA-impostor-corpus/FgA1779-OCR.txt.txt\n",
      "data/verification/FgA-impostor-corpus/FgA1786-OCR.txt\n",
      "data/verification/FgA-impostor-corpus/FgA1785-OCR.txt\n",
      "data/verification/FgA-impostor-corpus/FgA1776-OCR.txt.txt\n",
      "data/verification/FgA-impostor-corpus/FgA1784-OCR.txt\n",
      "data/verification/FgA-impostor-corpus/FgA1781-OCR.txt\n",
      "data/verification/FgA-impostor-corpus/FgA1775-OCR.txt\n",
      "data/verification/FgA-impostor-corpus/FgA1774-OCR.txt\n",
      "data/verification/FgA-impostor-corpus/FgA1782-OCR.txt\n",
      "data/verification/FgA-impostor-corpus/FgA1783-OCR.txt\n",
      "data/verification/FgA-impostor-corpus/FgA1777-OCR.txt.txt\n"
     ]
    }
   ],
   "source": [
    "cnt = 1\n",
    "for fn in glob.glob('data/verification/FgA-impostor-corpus/*.txt'):\n",
    "    print(fn)\n",
    "    with open(fn) as f:\n",
    "        lines = f.readlines()\n",
    "    f = open(outdir + '/' + str(cnt) + '.txt', 'w')\n",
    "    for idx, line in enumerate(lines):\n",
    "        if idx >= 2 and idx <= len(lines):\n",
    "            if lines[idx - 1] == '\\n' and lines[idx - 2].endswith('\\n'):\n",
    "                if line.replace('-', '').strip().endswith('.') and line.lstrip()[0].isupper() and line.count('.') == 1:\n",
    "                    if lines[idx + 1] == '\\n':\n",
    "                        f.close()\n",
    "                        cnt += 1\n",
    "                        f = open(outdir + '/' + str(cnt) + '.txt', 'w')\n",
    "        f.write(line + '\\n')\n",
    "f.close()"
   ]
  },
  {
   "cell_type": "code",
   "execution_count": 27,
   "metadata": {},
   "outputs": [
    {
     "name": "stdout",
     "output_type": "stream",
     "text": [
      "2282\n"
     ]
    }
   ],
   "source": [
    "imposter_texts = []\n",
    "for fn in glob.glob('data/verification/imposter_samples/*.txt'):\n",
    "    with open(fn) as f:\n",
    "        text = f.read()\n",
    "        text = ' '.join(text.split())\n",
    "        text = text.replace('ſ', 's')\n",
    "        text = re.sub(DIRTY, '', text)\n",
    "        text = ''.join(c for c in text if c.isalpha() or c.isspace())\n",
    "        text = ' '.join(text.split())\n",
    "        text = unidecode.unidecode(text) # !!!!!!!\n",
    "    if len(text) >= 2102:\n",
    "        imposter_texts.append(text)\n",
    "print(len(imposter_texts))"
   ]
  },
  {
   "cell_type": "code",
   "execution_count": 28,
   "metadata": {},
   "outputs": [],
   "source": [
    "class Verifier():\n",
    "    def __init__(self, iters=100, \n",
    "                 rnd_prop=.5, random_state=1066,\n",
    "                 num_instances=30, metric='cosine',\n",
    "                 rnd_state=1234):\n",
    "        assert (rnd_prop >= 0.0) and (rnd_prop <= 1.0)\n",
    "        \n",
    "        np.random.seed(rnd_state)\n",
    "        self.iters = iters\n",
    "        self.rnd_prop = rnd_prop\n",
    "        self.num_instances = num_instances\n",
    "    \n",
    "    def predict_proba(self, target, source_X, imposter_X):\n",
    "        \"\"\"\n",
    "        target = (single) anonymous text\n",
    "        source_X = candidate author\n",
    "        imposter_X = imposter documents\n",
    "        \"\"\"\n",
    "        total_features = imposter_X.shape[1]\n",
    "        total_imposters = imposter_X.shape[0]\n",
    "        total_source = source_X.shape[0]\n",
    "        target = np.array([target])\n",
    "        hits = np.zeros(self.iters)\n",
    "            \n",
    "        for it in range(self.iters):\n",
    "            imposters_ = imposter_X[np.random.choice(total_imposters, self.num_instances, replace=False), :]\n",
    "            source_ = source_X[np.random.choice(total_source, self.num_instances, replace=False), :]\n",
    "            \n",
    "            if self.rnd_prop < 1.0:\n",
    "                idxs = np.random.choice(total_features, int(total_features * self.rnd_prop), replace=False)\n",
    "                imposters_ = imposters_[:, idxs]\n",
    "                source_ = source_[:, idxs]\n",
    "                target_ = target[:, idxs]\n",
    "            \n",
    "            min_imp_dist = np.min(cdist(target_, imposters_, metric='cosine'))\n",
    "            min_src_dist = np.min(cdist(target_, source_, metric='cosine'))\n",
    "            \n",
    "            if min_src_dist < min_imp_dist:\n",
    "                hits[it] = 1\n",
    "        \n",
    "        return np.mean(hits)\n",
    "            "
   ]
  },
  {
   "cell_type": "code",
   "execution_count": 29,
   "metadata": {},
   "outputs": [],
   "source": [
    "candidate = 'goethe'\n",
    "source = train_X[train['author'] == candidate]\n",
    "targets = dev_X"
   ]
  },
  {
   "cell_type": "code",
   "execution_count": 30,
   "metadata": {},
   "outputs": [],
   "source": [
    "target_y = np.array([1 if a == candidate else 0 for a in dev['author']])"
   ]
  },
  {
   "cell_type": "code",
   "execution_count": 31,
   "metadata": {},
   "outputs": [
    {
     "name": "stdout",
     "output_type": "stream",
     "text": [
      "(2282, 10000)\n"
     ]
    }
   ],
   "source": [
    "imposters = scaler.transform(vectorizer.transform(imposter_texts).toarray())\n",
    "print(imposters.shape)"
   ]
  },
  {
   "cell_type": "code",
   "execution_count": 32,
   "metadata": {},
   "outputs": [
    {
     "name": "stderr",
     "output_type": "stream",
     "text": [
      "100%|██████████| 1658/1658 [01:59<00:00, 13.89it/s]\n"
     ]
    }
   ],
   "source": [
    "verifier = Verifier(iters=25, num_instances=25)\n",
    "probas = [verifier.predict_proba(target=t, source_X=source,\n",
    "                       imposter_X=imposters) for t in tqdm(targets)]"
   ]
  },
  {
   "cell_type": "code",
   "execution_count": 33,
   "metadata": {},
   "outputs": [],
   "source": [
    "precision, recall, thresholds = precision_recall_curve(target_y, probas)"
   ]
  },
  {
   "cell_type": "code",
   "execution_count": 34,
   "metadata": {},
   "outputs": [
    {
     "name": "stderr",
     "output_type": "stream",
     "text": [
      "/Users/mikekestemont/anaconda3/envs/py36/lib/python3.6/site-packages/sklearn/metrics/classification.py:1135: UndefinedMetricWarning: F-score is ill-defined and being set to 0.0 due to no predicted samples.\n",
      "  'precision', 'predicted', average, warn_for)\n"
     ]
    }
   ],
   "source": [
    "f1s = [f1_score(target_y, (probas > th) * 1) for th in thresholds]"
   ]
  },
  {
   "cell_type": "code",
   "execution_count": 35,
   "metadata": {},
   "outputs": [
    {
     "name": "stdout",
     "output_type": "stream",
     "text": [
      "0.7803278688524592 0.36\n"
     ]
    }
   ],
   "source": [
    "max_idx = np.array(f1s).argmax()\n",
    "max_f1 = f1s[max_idx]\n",
    "max_th = thresholds[max_idx]\n",
    "print(max_f1, max_th)"
   ]
  },
  {
   "cell_type": "code",
   "execution_count": 36,
   "metadata": {},
   "outputs": [
    {
     "data": {
      "image/png": "[encoded data removed]",
      "text/plain": [
       "<Figure size 720x720 with 1 Axes>"
      ]
     },
     "metadata": {
      "needs_background": "light"
     },
     "output_type": "display_data"
    }
   ],
   "source": [
    "plt.figure(figsize=(10, 10))\n",
    "step_kwargs = ({'step': 'post'}\n",
    "               if 'step' in signature(plt.fill_between).parameters\n",
    "               else {})\n",
    "plt.step(recall, precision, color='b', alpha=0.2,\n",
    "         where='post')\n",
    "plt.fill_between(recall, precision, alpha=0.2, color='b', **step_kwargs)\n",
    "\n",
    "plt.xlabel('Recall')\n",
    "plt.ylabel('Precision')\n",
    "plt.ylim([0.0, 1.05])\n",
    "plt.xlim([0.0, 1.0])\n",
    "\n",
    "plt.plot(recall[max_idx], precision[max_idx], 'o')\n",
    "plt.axhline(precision[max_idx])\n",
    "plt.axvline(recall[max_idx])\n",
    "plt.title(f'{candidate} | f1={round(max_f1, 4)} @ theta={round(max_th, 4)}');"
   ]
  },
  {
   "cell_type": "markdown",
   "metadata": {},
   "source": [
    "## Unseen data"
   ]
  },
  {
   "cell_type": "code",
   "execution_count": 37,
   "metadata": {},
   "outputs": [
    {
     "name": "stdout",
     "output_type": "stream",
     "text": [
      "(15, 10000)\n"
     ]
    }
   ],
   "source": [
    "target = load_folder('data/target', ext='.txt', size=None)\n",
    "target_X = scaler.transform(vectorizer.transform(target['text']).toarray())\n",
    "print(target_X.shape)"
   ]
  },
  {
   "cell_type": "code",
   "execution_count": 38,
   "metadata": {},
   "outputs": [],
   "source": [
    "source = train_X[train['author'] == 'goethe']"
   ]
  },
  {
   "cell_type": "code",
   "execution_count": 39,
   "metadata": {},
   "outputs": [
    {
     "name": "stderr",
     "output_type": "stream",
     "text": [
      "100%|██████████| 15/15 [00:01<00:00, 13.67it/s]\n"
     ]
    }
   ],
   "source": [
    "verifier = Verifier(iters=25, num_instances=25)\n",
    "target['proba'] = [verifier.predict_proba(target=t, source_X=source,\n",
    "                       imposter_X=imposters) for t in tqdm(target_X)]"
   ]
  },
  {
   "cell_type": "code",
   "execution_count": 40,
   "metadata": {},
   "outputs": [],
   "source": [
    "certified = target[target['author'] == 'goethe']\n",
    "relaxed = certified['proba'].mean()"
   ]
  },
  {
   "cell_type": "code",
   "execution_count": 41,
   "metadata": {},
   "outputs": [
    {
     "data": {
      "text/plain": [
       "<matplotlib.lines.Line2D at 0x13254cc50>"
      ]
     },
     "execution_count": 41,
     "metadata": {},
     "output_type": "execute_result"
    },
    {
     "data": {
      "image/png": "[encoded data removed]",
      "text/plain": [
       "<Figure size 432x288 with 1 Axes>"
      ]
     },
     "metadata": {
      "needs_background": "light"
     },
     "output_type": "display_data"
    }
   ],
   "source": [
    "ax = target['proba'].plot('barh')\n",
    "ax.axvline(max_th, ls='-')\n",
    "ax.axvline(relaxed, ls='--')"
   ]
  },
  {
   "cell_type": "markdown",
   "metadata": {},
   "source": [
    "## Fishing Goethe"
   ]
  },
  {
   "cell_type": "code",
   "execution_count": 42,
   "metadata": {},
   "outputs": [],
   "source": [
    "samples = []\n",
    "outdir = 'data/verification/fga_samples'\n",
    "\n",
    "try:\n",
    "    shutil.rmtree(outdir)\n",
    "except FileNotFoundError:\n",
    "    pass\n",
    "os.mkdir(outdir)"
   ]
  },
  {
   "cell_type": "code",
   "execution_count": 43,
   "metadata": {},
   "outputs": [
    {
     "name": "stdout",
     "output_type": "stream",
     "text": [
      "data/verification/FgA-1772-1773/FgA1773-OCR.txt\n",
      "data/verification/FgA-1772-1773/FgA1772OCR.txt\n"
     ]
    }
   ],
   "source": [
    "cnt = 1\n",
    "for fn in glob.glob('data/verification/FgA-1772-1773/*.txt'):\n",
    "    print(fn)\n",
    "    with open(fn) as f:\n",
    "        lines = f.readlines()\n",
    "    f = open(outdir + '/' + str(cnt) + '.txt', 'w')\n",
    "    for idx, line in enumerate(lines):\n",
    "        if idx >= 2 and idx <= len(lines):\n",
    "            if lines[idx - 1] == '\\n' and lines[idx - 2].endswith('\\n'):\n",
    "                if line.replace('-', '').strip().endswith('.') and line.lstrip()[0].isupper() and line.count('.') == 1:\n",
    "                    if lines[idx + 1] == '\\n':\n",
    "                        f.close()\n",
    "                        cnt += 1\n",
    "                        f = open(outdir + '/' + os.path.basename(fn).replace('.txt', '') + str(cnt) + '.txt', 'w')\n",
    "        f.write(line + '\\n')\n",
    "f.close()"
   ]
  },
  {
   "cell_type": "code",
   "execution_count": 44,
   "metadata": {},
   "outputs": [
    {
     "name": "stdout",
     "output_type": "stream",
     "text": [
      "348\n"
     ]
    }
   ],
   "source": [
    "verification_titles, verification_texts = [], []\n",
    "for fn in glob.glob('data/verification/fga_samples/*.txt'):\n",
    "    with open(fn) as f:\n",
    "        text = f.read()\n",
    "        text = ' '.join(text.split())\n",
    "        text = text.replace('ſ', 's')\n",
    "        text = re.sub(DIRTY, '', text)\n",
    "        text = ''.join(c for c in text if c.isalpha() or c.isspace())\n",
    "        text = ' '.join(text.split())\n",
    "        text = unidecode.unidecode(text) # !!!!!!!\n",
    "    if len(text) >= 2102:\n",
    "        verification_texts.append(text)\n",
    "        verification_titles.append(os.path.basename(fn))\n",
    "print(len(verification_texts))"
   ]
  },
  {
   "cell_type": "code",
   "execution_count": 45,
   "metadata": {},
   "outputs": [],
   "source": [
    "verification_X = scaler.transform(vectorizer.transform(verification_texts).toarray())"
   ]
  },
  {
   "cell_type": "code",
   "execution_count": 46,
   "metadata": {},
   "outputs": [
    {
     "name": "stderr",
     "output_type": "stream",
     "text": [
      "100%|██████████| 348/348 [00:04<00:00, 76.61it/s]\n"
     ]
    }
   ],
   "source": [
    "verifier = Verifier(iters=10, num_instances=10)\n",
    "probas = [verifier.predict_proba(target=t, source_X=source,\n",
    "                       imposter_X=imposters) for t in tqdm(verification_X)]"
   ]
  },
  {
   "cell_type": "code",
   "execution_count": 47,
   "metadata": {},
   "outputs": [],
   "source": [
    "results = pd.DataFrame(list(zip(verification_titles, probas)), columns=('%%filename', 'probability'))"
   ]
  },
  {
   "cell_type": "code",
   "execution_count": 48,
   "metadata": {},
   "outputs": [],
   "source": [
    "results = results.sort_values(by=['probability'], ascending=False)"
   ]
  },
  {
   "cell_type": "code",
   "execution_count": 49,
   "metadata": {},
   "outputs": [
    {
     "data": {
      "text/html": [
       "<div>\n",
       "<style scoped>\n",
       "    .dataframe tbody tr th:only-of-type {\n",
       "        vertical-align: middle;\n",
       "    }\n",
       "\n",
       "    .dataframe tbody tr th {\n",
       "        vertical-align: top;\n",
       "    }\n",
       "\n",
       "    .dataframe thead th {\n",
       "        text-align: right;\n",
       "    }\n",
       "</style>\n",
       "<table border=\"1\" class=\"dataframe\">\n",
       "  <thead>\n",
       "    <tr style=\"text-align: right;\">\n",
       "      <th></th>\n",
       "      <th>%%filename</th>\n",
       "      <th>probability</th>\n",
       "    </tr>\n",
       "  </thead>\n",
       "  <tbody>\n",
       "    <tr>\n",
       "      <th>253</th>\n",
       "      <td>FgA1772OCR415.txt</td>\n",
       "      <td>0.6</td>\n",
       "    </tr>\n",
       "    <tr>\n",
       "      <th>72</th>\n",
       "      <td>FgA1773-OCR223.txt</td>\n",
       "      <td>0.5</td>\n",
       "    </tr>\n",
       "    <tr>\n",
       "      <th>98</th>\n",
       "      <td>FgA1772OCR419.txt</td>\n",
       "      <td>0.4</td>\n",
       "    </tr>\n",
       "    <tr>\n",
       "      <th>234</th>\n",
       "      <td>FgA1772OCR402.txt</td>\n",
       "      <td>0.4</td>\n",
       "    </tr>\n",
       "    <tr>\n",
       "      <th>69</th>\n",
       "      <td>FgA1773-OCR209.txt</td>\n",
       "      <td>0.4</td>\n",
       "    </tr>\n",
       "    <tr>\n",
       "      <th>9</th>\n",
       "      <td>FgA1772OCR484.txt</td>\n",
       "      <td>0.4</td>\n",
       "    </tr>\n",
       "    <tr>\n",
       "      <th>206</th>\n",
       "      <td>FgA1772OCR559.txt</td>\n",
       "      <td>0.3</td>\n",
       "    </tr>\n",
       "    <tr>\n",
       "      <th>78</th>\n",
       "      <td>FgA1773-OCR155.txt</td>\n",
       "      <td>0.3</td>\n",
       "    </tr>\n",
       "    <tr>\n",
       "      <th>264</th>\n",
       "      <td>FgA1773-OCR260.txt</td>\n",
       "      <td>0.3</td>\n",
       "    </tr>\n",
       "    <tr>\n",
       "      <th>220</th>\n",
       "      <td>FgA1772OCR611.txt</td>\n",
       "      <td>0.3</td>\n",
       "    </tr>\n",
       "    <tr>\n",
       "      <th>150</th>\n",
       "      <td>FgA1772OCR543.txt</td>\n",
       "      <td>0.3</td>\n",
       "    </tr>\n",
       "    <tr>\n",
       "      <th>15</th>\n",
       "      <td>FgA1773-OCR145.txt</td>\n",
       "      <td>0.3</td>\n",
       "    </tr>\n",
       "    <tr>\n",
       "      <th>300</th>\n",
       "      <td>FgA1773-OCR205.txt</td>\n",
       "      <td>0.2</td>\n",
       "    </tr>\n",
       "    <tr>\n",
       "      <th>32</th>\n",
       "      <td>FgA1772OCR451.txt</td>\n",
       "      <td>0.2</td>\n",
       "    </tr>\n",
       "    <tr>\n",
       "      <th>270</th>\n",
       "      <td>FgA1772OCR315.txt</td>\n",
       "      <td>0.2</td>\n",
       "    </tr>\n",
       "    <tr>\n",
       "      <th>104</th>\n",
       "      <td>FgA1772OCR380.txt</td>\n",
       "      <td>0.2</td>\n",
       "    </tr>\n",
       "    <tr>\n",
       "      <th>97</th>\n",
       "      <td>FgA1772OCR592.txt</td>\n",
       "      <td>0.2</td>\n",
       "    </tr>\n",
       "    <tr>\n",
       "      <th>103</th>\n",
       "      <td>FgA1773-OCR133.txt</td>\n",
       "      <td>0.2</td>\n",
       "    </tr>\n",
       "    <tr>\n",
       "      <th>320</th>\n",
       "      <td>FgA1772OCR528.txt</td>\n",
       "      <td>0.2</td>\n",
       "    </tr>\n",
       "    <tr>\n",
       "      <th>274</th>\n",
       "      <td>FgA1773-OCR164.txt</td>\n",
       "      <td>0.2</td>\n",
       "    </tr>\n",
       "    <tr>\n",
       "      <th>277</th>\n",
       "      <td>FgA1773-OCR86.txt</td>\n",
       "      <td>0.2</td>\n",
       "    </tr>\n",
       "    <tr>\n",
       "      <th>92</th>\n",
       "      <td>FgA1773-OCR222.txt</td>\n",
       "      <td>0.2</td>\n",
       "    </tr>\n",
       "    <tr>\n",
       "      <th>48</th>\n",
       "      <td>FgA1773-OCR98.txt</td>\n",
       "      <td>0.2</td>\n",
       "    </tr>\n",
       "    <tr>\n",
       "      <th>297</th>\n",
       "      <td>FgA1772OCR511.txt</td>\n",
       "      <td>0.2</td>\n",
       "    </tr>\n",
       "    <tr>\n",
       "      <th>257</th>\n",
       "      <td>FgA1772OCR603.txt</td>\n",
       "      <td>0.2</td>\n",
       "    </tr>\n",
       "    <tr>\n",
       "      <th>30</th>\n",
       "      <td>FgA1772OCR525.txt</td>\n",
       "      <td>0.2</td>\n",
       "    </tr>\n",
       "    <tr>\n",
       "      <th>330</th>\n",
       "      <td>FgA1772OCR516.txt</td>\n",
       "      <td>0.2</td>\n",
       "    </tr>\n",
       "    <tr>\n",
       "      <th>3</th>\n",
       "      <td>FgA1772OCR532.txt</td>\n",
       "      <td>0.2</td>\n",
       "    </tr>\n",
       "    <tr>\n",
       "      <th>240</th>\n",
       "      <td>FgA1772OCR358.txt</td>\n",
       "      <td>0.2</td>\n",
       "    </tr>\n",
       "    <tr>\n",
       "      <th>14</th>\n",
       "      <td>FgA1772OCR335.txt</td>\n",
       "      <td>0.2</td>\n",
       "    </tr>\n",
       "    <tr>\n",
       "      <th>...</th>\n",
       "      <td>...</td>\n",
       "      <td>...</td>\n",
       "    </tr>\n",
       "    <tr>\n",
       "      <th>119</th>\n",
       "      <td>FgA1773-OCR285.txt</td>\n",
       "      <td>0.0</td>\n",
       "    </tr>\n",
       "    <tr>\n",
       "      <th>117</th>\n",
       "      <td>FgA1773-OCR13.txt</td>\n",
       "      <td>0.0</td>\n",
       "    </tr>\n",
       "    <tr>\n",
       "      <th>116</th>\n",
       "      <td>FgA1773-OCR278.txt</td>\n",
       "      <td>0.0</td>\n",
       "    </tr>\n",
       "    <tr>\n",
       "      <th>115</th>\n",
       "      <td>FgA1773-OCR250.txt</td>\n",
       "      <td>0.0</td>\n",
       "    </tr>\n",
       "    <tr>\n",
       "      <th>114</th>\n",
       "      <td>FgA1773-OCR244.txt</td>\n",
       "      <td>0.0</td>\n",
       "    </tr>\n",
       "    <tr>\n",
       "      <th>113</th>\n",
       "      <td>FgA1773-OCR287.txt</td>\n",
       "      <td>0.0</td>\n",
       "    </tr>\n",
       "    <tr>\n",
       "      <th>112</th>\n",
       "      <td>FgA1772OCR544.txt</td>\n",
       "      <td>0.0</td>\n",
       "    </tr>\n",
       "    <tr>\n",
       "      <th>111</th>\n",
       "      <td>FgA1772OCR550.txt</td>\n",
       "      <td>0.0</td>\n",
       "    </tr>\n",
       "    <tr>\n",
       "      <th>110</th>\n",
       "      <td>FgA1772OCR430.txt</td>\n",
       "      <td>0.0</td>\n",
       "    </tr>\n",
       "    <tr>\n",
       "      <th>109</th>\n",
       "      <td>FgA1772OCR356.txt</td>\n",
       "      <td>0.0</td>\n",
       "    </tr>\n",
       "    <tr>\n",
       "      <th>125</th>\n",
       "      <td>FgA1772OCR426.txt</td>\n",
       "      <td>0.0</td>\n",
       "    </tr>\n",
       "    <tr>\n",
       "      <th>129</th>\n",
       "      <td>FgA1772OCR382.txt</td>\n",
       "      <td>0.0</td>\n",
       "    </tr>\n",
       "    <tr>\n",
       "      <th>149</th>\n",
       "      <td>FgA1773-OCR294.txt</td>\n",
       "      <td>0.0</td>\n",
       "    </tr>\n",
       "    <tr>\n",
       "      <th>130</th>\n",
       "      <td>FgA1772OCR433.txt</td>\n",
       "      <td>0.0</td>\n",
       "    </tr>\n",
       "    <tr>\n",
       "      <th>148</th>\n",
       "      <td>FgA1773-OCR7.txt</td>\n",
       "      <td>0.0</td>\n",
       "    </tr>\n",
       "    <tr>\n",
       "      <th>145</th>\n",
       "      <td>FgA1773-OCR257.txt</td>\n",
       "      <td>0.0</td>\n",
       "    </tr>\n",
       "    <tr>\n",
       "      <th>144</th>\n",
       "      <td>FgA1773-OCR243.txt</td>\n",
       "      <td>0.0</td>\n",
       "    </tr>\n",
       "    <tr>\n",
       "      <th>143</th>\n",
       "      <td>FgA1773-OCR10.txt</td>\n",
       "      <td>0.0</td>\n",
       "    </tr>\n",
       "    <tr>\n",
       "      <th>142</th>\n",
       "      <td>FgA1773-OCR247.txt</td>\n",
       "      <td>0.0</td>\n",
       "    </tr>\n",
       "    <tr>\n",
       "      <th>141</th>\n",
       "      <td>FgA1773-OCR284.txt</td>\n",
       "      <td>0.0</td>\n",
       "    </tr>\n",
       "    <tr>\n",
       "      <th>140</th>\n",
       "      <td>FgA1773-OCR3.txt</td>\n",
       "      <td>0.0</td>\n",
       "    </tr>\n",
       "    <tr>\n",
       "      <th>139</th>\n",
       "      <td>FgA1773-OCR290.txt</td>\n",
       "      <td>0.0</td>\n",
       "    </tr>\n",
       "    <tr>\n",
       "      <th>138</th>\n",
       "      <td>FgA1772OCR553.txt</td>\n",
       "      <td>0.0</td>\n",
       "    </tr>\n",
       "    <tr>\n",
       "      <th>137</th>\n",
       "      <td>FgA1772OCR547.txt</td>\n",
       "      <td>0.0</td>\n",
       "    </tr>\n",
       "    <tr>\n",
       "      <th>136</th>\n",
       "      <td>FgA1772OCR590.txt</td>\n",
       "      <td>0.0</td>\n",
       "    </tr>\n",
       "    <tr>\n",
       "      <th>135</th>\n",
       "      <td>FgA1773-OCR119.txt</td>\n",
       "      <td>0.0</td>\n",
       "    </tr>\n",
       "    <tr>\n",
       "      <th>133</th>\n",
       "      <td>FgA1772OCR427.txt</td>\n",
       "      <td>0.0</td>\n",
       "    </tr>\n",
       "    <tr>\n",
       "      <th>132</th>\n",
       "      <td>FgA1773-OCR131.txt</td>\n",
       "      <td>0.0</td>\n",
       "    </tr>\n",
       "    <tr>\n",
       "      <th>131</th>\n",
       "      <td>FgA1773-OCR125.txt</td>\n",
       "      <td>0.0</td>\n",
       "    </tr>\n",
       "    <tr>\n",
       "      <th>347</th>\n",
       "      <td>FgA1773-OCR217.txt</td>\n",
       "      <td>0.0</td>\n",
       "    </tr>\n",
       "  </tbody>\n",
       "</table>\n",
       "<p>348 rows × 2 columns</p>\n",
       "</div>"
      ],
      "text/plain": [
       "             %%filename  probability\n",
       "253   FgA1772OCR415.txt          0.6\n",
       "72   FgA1773-OCR223.txt          0.5\n",
       "98    FgA1772OCR419.txt          0.4\n",
       "234   FgA1772OCR402.txt          0.4\n",
       "69   FgA1773-OCR209.txt          0.4\n",
       "9     FgA1772OCR484.txt          0.4\n",
       "206   FgA1772OCR559.txt          0.3\n",
       "78   FgA1773-OCR155.txt          0.3\n",
       "264  FgA1773-OCR260.txt          0.3\n",
       "220   FgA1772OCR611.txt          0.3\n",
       "150   FgA1772OCR543.txt          0.3\n",
       "15   FgA1773-OCR145.txt          0.3\n",
       "300  FgA1773-OCR205.txt          0.2\n",
       "32    FgA1772OCR451.txt          0.2\n",
       "270   FgA1772OCR315.txt          0.2\n",
       "104   FgA1772OCR380.txt          0.2\n",
       "97    FgA1772OCR592.txt          0.2\n",
       "103  FgA1773-OCR133.txt          0.2\n",
       "320   FgA1772OCR528.txt          0.2\n",
       "274  FgA1773-OCR164.txt          0.2\n",
       "277   FgA1773-OCR86.txt          0.2\n",
       "92   FgA1773-OCR222.txt          0.2\n",
       "48    FgA1773-OCR98.txt          0.2\n",
       "297   FgA1772OCR511.txt          0.2\n",
       "257   FgA1772OCR603.txt          0.2\n",
       "30    FgA1772OCR525.txt          0.2\n",
       "330   FgA1772OCR516.txt          0.2\n",
       "3     FgA1772OCR532.txt          0.2\n",
       "240   FgA1772OCR358.txt          0.2\n",
       "14    FgA1772OCR335.txt          0.2\n",
       "..                  ...          ...\n",
       "119  FgA1773-OCR285.txt          0.0\n",
       "117   FgA1773-OCR13.txt          0.0\n",
       "116  FgA1773-OCR278.txt          0.0\n",
       "115  FgA1773-OCR250.txt          0.0\n",
       "114  FgA1773-OCR244.txt          0.0\n",
       "113  FgA1773-OCR287.txt          0.0\n",
       "112   FgA1772OCR544.txt          0.0\n",
       "111   FgA1772OCR550.txt          0.0\n",
       "110   FgA1772OCR430.txt          0.0\n",
       "109   FgA1772OCR356.txt          0.0\n",
       "125   FgA1772OCR426.txt          0.0\n",
       "129   FgA1772OCR382.txt          0.0\n",
       "149  FgA1773-OCR294.txt          0.0\n",
       "130   FgA1772OCR433.txt          0.0\n",
       "148    FgA1773-OCR7.txt          0.0\n",
       "145  FgA1773-OCR257.txt          0.0\n",
       "144  FgA1773-OCR243.txt          0.0\n",
       "143   FgA1773-OCR10.txt          0.0\n",
       "142  FgA1773-OCR247.txt          0.0\n",
       "141  FgA1773-OCR284.txt          0.0\n",
       "140    FgA1773-OCR3.txt          0.0\n",
       "139  FgA1773-OCR290.txt          0.0\n",
       "138   FgA1772OCR553.txt          0.0\n",
       "137   FgA1772OCR547.txt          0.0\n",
       "136   FgA1772OCR590.txt          0.0\n",
       "135  FgA1773-OCR119.txt          0.0\n",
       "133   FgA1772OCR427.txt          0.0\n",
       "132  FgA1773-OCR131.txt          0.0\n",
       "131  FgA1773-OCR125.txt          0.0\n",
       "347  FgA1773-OCR217.txt          0.0\n",
       "\n",
       "[348 rows x 2 columns]"
      ]
     },
     "execution_count": 49,
     "metadata": {},
     "output_type": "execute_result"
    }
   ],
   "source": [
    "results"
   ]
  },
  {
   "cell_type": "code",
   "execution_count": null,
   "metadata": {},
   "outputs": [],
   "source": []
  }
 ],
 "metadata": {
  "kernelspec": {
   "display_name": "Python (py36)",
   "language": "python",
   "name": "py36"
  },
  "language_info": {
   "codemirror_mode": {
    "name": "ipython",
    "version": 3
   },
   "file_extension": ".py",
   "mimetype": "text/x-python",
   "name": "python",
   "nbconvert_exporter": "python",
   "pygments_lexer": "ipython3",
   "version": "3.6.8"
  }
 },
 "nbformat": 4,
 "nbformat_minor": 2
}
